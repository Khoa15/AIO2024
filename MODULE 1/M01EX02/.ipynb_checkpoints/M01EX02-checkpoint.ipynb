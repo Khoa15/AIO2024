{
 "cells": [
  {
   "cell_type": "code",
   "execution_count": 81,
   "id": "4e33aca6-99bb-40db-a509-43396c381093",
   "metadata": {},
   "outputs": [],
   "source": [
    "def ex1():\n",
    "    num_list = eval(input(\"Num list: \"))\n",
    "    k = int(input(\"k = \"))\n",
    "    result = []\n",
    "    for i in range(0, len(num_list)-k+1):\n",
    "        result.append(max(num_list[i: i+k]))\n",
    "    print(result)"
   ]
  },
  {
   "cell_type": "code",
   "execution_count": 82,
   "id": "a5fe0cf4-a771-4bff-bc01-4bb16e60f9bc",
   "metadata": {},
   "outputs": [
    {
     "name": "stdin",
     "output_type": "stream",
     "text": [
      "Num list:  [3, 4, 5, 1, -44 , 5 ,10, 12 ,33, 1] \n",
      "k =  3\n"
     ]
    },
    {
     "name": "stdout",
     "output_type": "stream",
     "text": [
      "[5, 5, 5, 5, 10, 12, 33, 33]\n"
     ]
    }
   ],
   "source": [
    "ex1()\n",
    "#[3, 4, 5, 1, -44 , 5 ,10, 12 ,33, 1] \n",
    "#3"
   ]
  },
  {
   "cell_type": "code",
   "execution_count": 36,
   "id": "92d9092f-22b5-4a86-b7e3-c5599bd7e40e",
   "metadata": {},
   "outputs": [],
   "source": [
    "def ex2():\n",
    "    word = input()\n",
    "    result = {}\n",
    "    for x in word:\n",
    "        result.setdefault(x, 0)\n",
    "        result[x] += 1\n",
    "    print(result)"
   ]
  },
  {
   "cell_type": "code",
   "execution_count": 44,
   "id": "62072c3e-ad7b-4cec-adaa-71e2cee03f40",
   "metadata": {},
   "outputs": [
    {
     "name": "stdout",
     "output_type": "stream",
     "text": [
      "Description - Data Sctucture.pdf\n",
      "M01EX02.ipynb\n",
      "P1_data.txt\n",
      "[Rubric]-Data-Structure.pdf\n"
     ]
    }
   ],
   "source": [
    "!ls"
   ]
  },
  {
   "cell_type": "code",
   "execution_count": 37,
   "id": "cfbf2b73-f8a8-4c4b-b400-c2fb4ca0e568",
   "metadata": {},
   "outputs": [
    {
     "name": "stdin",
     "output_type": "stream",
     "text": [
      " heloo\n"
     ]
    },
    {
     "name": "stdout",
     "output_type": "stream",
     "text": [
      "{'h': 1, 'e': 1, 'l': 1, 'o': 2}\n"
     ]
    }
   ],
   "source": [
    "ex2()"
   ]
  },
  {
   "cell_type": "code",
   "execution_count": 63,
   "id": "3d48ca36-eab1-4d33-a1bb-e017e1971cd7",
   "metadata": {},
   "outputs": [],
   "source": [
    "def ex3():\n",
    "    file_path = input()\n",
    "    result = {}\n",
    "    with open(file_path, \"r\") as f:\n",
    "        lines = f.read().splitlines()\n",
    "        for line in lines:\n",
    "            for w in line.split(\" \"):\n",
    "                w = w.lower()\n",
    "                result.setdefault(w, 0)\n",
    "                result[w] += 1\n",
    "        print(result)"
   ]
  },
  {
   "cell_type": "code",
   "execution_count": 64,
   "id": "6c2a5e6c-3b91-4003-8cf7-fc7a9972b207",
   "metadata": {},
   "outputs": [
    {
     "name": "stdin",
     "output_type": "stream",
     "text": [
      " ./P1_data.txt\n"
     ]
    },
    {
     "name": "stdout",
     "output_type": "stream",
     "text": [
      "{'he': 1, 'who': 3, 'conquers': 1, 'himself': 1, 'is': 3, 'the': 5, 'mightiest': 1, 'warrior': 1, 'try': 2, 'not': 1, 'to': 3, 'become': 2, 'a': 7, 'man': 6, 'of': 4, 'success': 3, 'but': 1, 'rather': 1, 'value': 1, 'one': 4, 'with': 4, 'courage': 1, 'makes': 1, 'majority': 1, 'secret': 1, 'in': 4, 'life': 2, 'for': 3, 'be': 1, 'ready': 1, 'his': 2, 'opportunity': 1, 'when': 2, 'it': 2, 'comes': 2, 'successful': 2, 'will': 2, 'profit': 1, 'from': 1, 'mistakes': 1, 'and': 1, 'again': 1, 'different': 1, 'way': 1, 'can': 3, 'lay': 1, 'firm': 1, 'foundation': 1, 'bricks': 1, 'others': 1, 'have': 1, 'thrown': 1, 'at': 1, 'him': 1, 'usually': 1, 'those': 1, 'are': 1, 'too': 1, 'busy': 1, 'looking': 1, 'we': 3, 'cannot': 1, 'solve': 1, 'problems': 1, 'kind': 1, 'thinking': 1, 'employed': 1, 'came': 1, 'up': 1, 'them': 1, 'just': 2, 'small': 1, 'positive': 1, 'thought': 1, 'morning': 1, 'change': 1, 'your': 1, 'whole': 1, 'day': 1, 'you': 3, 'get': 2, 'everything': 1, 'want': 2, 'if': 1, 'help': 1, 'enough': 1, 'other': 1, 'people': 1, 'what': 1, 'they': 1}\n"
     ]
    }
   ],
   "source": [
    "ex3()"
   ]
  },
  {
   "cell_type": "code",
   "execution_count": 71,
   "id": "8e3d901e-bce9-42b5-9828-61d75a6d7600",
   "metadata": {},
   "outputs": [],
   "source": [
    "def ex4(source, target):\n",
    "    m = len(source) + 1\n",
    "    n = len(target) + 1\n",
    "    D = [[0]*n]*m\n",
    "    print(D)"
   ]
  },
  {
   "cell_type": "code",
   "execution_count": 72,
   "id": "118e97f5-7d16-49a8-aedc-4c9610764b00",
   "metadata": {},
   "outputs": [
    {
     "name": "stdout",
     "output_type": "stream",
     "text": [
      "[[0, 0, 0, 0], [0, 0, 0, 0], [0, 0, 0, 0]]\n"
     ]
    }
   ],
   "source": [
    "ex4('yu', 'you')"
   ]
  },
  {
   "cell_type": "code",
   "execution_count": null,
   "id": "b66f50f3-0465-4416-8a3b-f8135e9fab5e",
   "metadata": {},
   "outputs": [],
   "source": []
  },
  {
   "cell_type": "code",
   "execution_count": null,
   "id": "8c32b885-25b8-4aaf-b7a8-1981af6e6f58",
   "metadata": {},
   "outputs": [],
   "source": []
  },
  {
   "cell_type": "code",
   "execution_count": null,
   "id": "68107394-0694-4071-94bb-84ed7408073c",
   "metadata": {},
   "outputs": [],
   "source": []
  },
  {
   "cell_type": "code",
   "execution_count": null,
   "id": "ffa80ada-f71f-464b-b416-52bbb1b77442",
   "metadata": {},
   "outputs": [],
   "source": []
  },
  {
   "cell_type": "code",
   "execution_count": null,
   "id": "f8df41c8-0c94-4c0b-ae22-885a3fb15f9e",
   "metadata": {},
   "outputs": [],
   "source": []
  },
  {
   "cell_type": "code",
   "execution_count": null,
   "id": "a2137be2-470a-41f9-ac2e-54452b88e329",
   "metadata": {},
   "outputs": [],
   "source": []
  },
  {
   "cell_type": "code",
   "execution_count": null,
   "id": "770bca3f-9989-4687-8fc9-9f84834cea2c",
   "metadata": {},
   "outputs": [],
   "source": []
  },
  {
   "cell_type": "code",
   "execution_count": null,
   "id": "63b5a497-9578-4ef4-ba5b-96ef4ae8699d",
   "metadata": {},
   "outputs": [],
   "source": []
  },
  {
   "cell_type": "code",
   "execution_count": null,
   "id": "23e83310-f267-41e6-8cff-9c802e4341b6",
   "metadata": {},
   "outputs": [],
   "source": []
  },
  {
   "cell_type": "code",
   "execution_count": null,
   "id": "b099c54d-08a0-429c-bb86-0de8b9cbb675",
   "metadata": {},
   "outputs": [],
   "source": []
  },
  {
   "cell_type": "code",
   "execution_count": null,
   "id": "c59c9213-c19a-48d9-80a5-c105c248115c",
   "metadata": {},
   "outputs": [],
   "source": []
  },
  {
   "cell_type": "code",
   "execution_count": null,
   "id": "93a7a3c8-9960-4004-8fc6-3d23dae348b7",
   "metadata": {},
   "outputs": [],
   "source": []
  },
  {
   "cell_type": "code",
   "execution_count": null,
   "id": "06870b67-efad-4629-ba11-a88af5d4f33e",
   "metadata": {},
   "outputs": [],
   "source": []
  }
 ],
 "metadata": {
  "kernelspec": {
   "display_name": "Python 3 (ipykernel)",
   "language": "python",
   "name": "python3"
  },
  "language_info": {
   "codemirror_mode": {
    "name": "ipython",
    "version": 3
   },
   "file_extension": ".py",
   "mimetype": "text/x-python",
   "name": "python",
   "nbconvert_exporter": "python",
   "pygments_lexer": "ipython3",
   "version": "3.11.7"
  }
 },
 "nbformat": 4,
 "nbformat_minor": 5
}
