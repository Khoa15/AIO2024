{
 "cells": [
  {
   "cell_type": "code",
   "execution_count": 84,
   "id": "4e33aca6-99bb-40db-a509-43396c381093",
   "metadata": {},
   "outputs": [],
   "source": [
    "def ex1():\n",
    "    num_list = eval(input(\"Num list: \"))\n",
    "    k = int(input(\"k = \"))\n",
    "    result = []\n",
    "    for i in range(0, len(num_list)-k+1):\n",
    "        result.append(max(num_list[i: i+k]))\n",
    "    print(result)"
   ]
  },
  {
   "cell_type": "code",
   "execution_count": 85,
   "id": "a5fe0cf4-a771-4bff-bc01-4bb16e60f9bc",
   "metadata": {},
   "outputs": [
    {
     "name": "stdin",
     "output_type": "stream",
     "text": [
      "Num list:  [3, 4, 5, 1, -44 , 5 ,10, 12 ,33, 1] \n",
      "k =  3\n"
     ]
    },
    {
     "name": "stdout",
     "output_type": "stream",
     "text": [
      "[5, 5, 5, 5, 10, 12, 33, 33]\n"
     ]
    }
   ],
   "source": [
    "ex1()\n",
    "#[3, 4, 5, 1, -44 , 5 ,10, 12 ,33, 1] \n",
    "#3"
   ]
  },
  {
   "cell_type": "code",
   "execution_count": 86,
   "id": "92d9092f-22b5-4a86-b7e3-c5599bd7e40e",
   "metadata": {},
   "outputs": [],
   "source": [
    "def ex2():\n",
    "    word = input()\n",
    "    result = {}\n",
    "    for x in word:\n",
    "        result.setdefault(x, 0)\n",
    "        result[x] += 1\n",
    "    print(result)"
   ]
  },
  {
   "cell_type": "code",
   "execution_count": 87,
   "id": "62072c3e-ad7b-4cec-adaa-71e2cee03f40",
   "metadata": {},
   "outputs": [
    {
     "name": "stdout",
     "output_type": "stream",
     "text": [
      "Description - Data Sctucture.pdf\n",
      "M01EX02.ipynb\n",
      "P1_data.txt\n",
      "[Rubric]-Data-Structure.pdf\n"
     ]
    }
   ],
   "source": [
    "!ls"
   ]
  },
  {
   "cell_type": "code",
   "execution_count": 88,
   "id": "cfbf2b73-f8a8-4c4b-b400-c2fb4ca0e568",
   "metadata": {},
   "outputs": [
    {
     "name": "stdin",
     "output_type": "stream",
     "text": [
      " Hello world\n"
     ]
    },
    {
     "name": "stdout",
     "output_type": "stream",
     "text": [
      "{'H': 1, 'e': 1, 'l': 3, 'o': 2, ' ': 1, 'w': 1, 'r': 1, 'd': 1}\n"
     ]
    }
   ],
   "source": [
    "ex2()"
   ]
  },
  {
   "cell_type": "code",
   "execution_count": 1,
   "id": "3d48ca36-eab1-4d33-a1bb-e017e1971cd7",
   "metadata": {},
   "outputs": [],
   "source": [
    "def ex3():\n",
    "    file_path = input()\n",
    "    result = {}\n",
    "    with open(file_path, \"r\") as f:\n",
    "        lines = f.read().splitlines()\n",
    "        for line in lines:\n",
    "            for w in line.split(\" \"):\n",
    "                w = w.lower()\n",
    "                result.setdefault(w, 0)\n",
    "                result[w] += 1\n",
    "        print(result)"
   ]
  },
  {
   "cell_type": "code",
   "execution_count": 2,
   "id": "6c2a5e6c-3b91-4003-8cf7-fc7a9972b207",
   "metadata": {},
   "outputs": [
    {
     "name": "stdin",
     "output_type": "stream",
     "text": [
      " P1_data.txt\n"
     ]
    },
    {
     "name": "stdout",
     "output_type": "stream",
     "text": [
      "{'he': 1, 'who': 3, 'conquers': 1, 'himself': 1, 'is': 3, 'the': 5, 'mightiest': 1, 'warrior': 1, 'try': 2, 'not': 1, 'to': 3, 'become': 2, 'a': 7, 'man': 6, 'of': 4, 'success': 3, 'but': 1, 'rather': 1, 'value': 1, 'one': 4, 'with': 4, 'courage': 1, 'makes': 1, 'majority': 1, 'secret': 1, 'in': 4, 'life': 2, 'for': 3, 'be': 1, 'ready': 1, 'his': 2, 'opportunity': 1, 'when': 2, 'it': 2, 'comes': 2, 'successful': 2, 'will': 2, 'profit': 1, 'from': 1, 'mistakes': 1, 'and': 1, 'again': 1, 'different': 1, 'way': 1, 'can': 3, 'lay': 1, 'firm': 1, 'foundation': 1, 'bricks': 1, 'others': 1, 'have': 1, 'thrown': 1, 'at': 1, 'him': 1, 'usually': 1, 'those': 1, 'are': 1, 'too': 1, 'busy': 1, 'looking': 1, 'we': 3, 'cannot': 1, 'solve': 1, 'problems': 1, 'kind': 1, 'thinking': 1, 'employed': 1, 'came': 1, 'up': 1, 'them': 1, 'just': 2, 'small': 1, 'positive': 1, 'thought': 1, 'morning': 1, 'change': 1, 'your': 1, 'whole': 1, 'day': 1, 'you': 3, 'get': 2, 'everything': 1, 'want': 2, 'if': 1, 'help': 1, 'enough': 1, 'other': 1, 'people': 1, 'what': 1, 'they': 1}\n"
     ]
    }
   ],
   "source": [
    "ex3()"
   ]
  },
  {
   "cell_type": "code",
   "execution_count": 91,
   "id": "8e3d901e-bce9-42b5-9828-61d75a6d7600",
   "metadata": {},
   "outputs": [],
   "source": [
    "def levenshtein(source, target):\n",
    "    n_s = len(source)+1\n",
    "    n_t = len(target)+1\n",
    "    matrix = [[0]*n_t for i in range(n_s)]\n",
    "    matrix[0][:] = [i for i in range(n_t)]\n",
    "\n",
    "    for i in range(n_s):\n",
    "        matrix[i][0] = i\n",
    "\n",
    "    for i in range(1, n_s):\n",
    "        for j in range(1, n_t):\n",
    "            s = matrix[i][0]\n",
    "            t = matrix[0][j]\n",
    "            sub_cost = 0\n",
    "            if source[s-1] != target[t-1]:\n",
    "                sub_cost = 1\n",
    "\n",
    "            matrix[i][j] = min(matrix[i-1][j] + 1, matrix[i][j-1] + 1, matrix[i-1][j-1] + sub_cost)\n",
    "    print(matrix)\n",
    "\n",
    "    "
   ]
  },
  {
   "cell_type": "code",
   "execution_count": 92,
   "id": "118e97f5-7d16-49a8-aedc-4c9610764b00",
   "metadata": {},
   "outputs": [
    {
     "name": "stdout",
     "output_type": "stream",
     "text": [
      "[[0, 1, 2, 3], [1, 0, 1, 2], [2, 1, 1, 1]]\n"
     ]
    }
   ],
   "source": [
    "levenshtein('yu', 'you')"
   ]
  },
  {
   "cell_type": "code",
   "execution_count": 93,
   "id": "b66f50f3-0465-4416-8a3b-f8135e9fab5e",
   "metadata": {},
   "outputs": [
    {
     "name": "stdout",
     "output_type": "stream",
     "text": [
      "[[0, 1, 2, 3, 4, 5], [1, 0, 1, 2, 3, 4], [2, 1, 1, 2, 3, 3], [3, 2, 2, 1, 2, 3], [4, 3, 3, 2, 2, 3]]\n"
     ]
    }
   ],
   "source": [
    "levenshtein('hola', 'hello')"
   ]
  },
  {
   "cell_type": "code",
   "execution_count": 95,
   "id": "8c32b885-25b8-4aaf-b7a8-1981af6e6f58",
   "metadata": {},
   "outputs": [
    {
     "name": "stdin",
     "output_type": "stream",
     "text": [
      "Num list:  [3 , 4 , 5 , 1 , -44 , 5 ,10 , 12 ,33 , 1]\n",
      "k =  3\n"
     ]
    },
    {
     "name": "stdout",
     "output_type": "stream",
     "text": [
      "[5, 5, 5, 5, 10, 12, 33, 33]\n"
     ]
    }
   ],
   "source": [
    "ex1()"
   ]
  },
  {
   "cell_type": "code",
   "execution_count": 96,
   "id": "68107394-0694-4071-94bb-84ed7408073c",
   "metadata": {},
   "outputs": [
    {
     "name": "stdin",
     "output_type": "stream",
     "text": [
      " smiles\n"
     ]
    },
    {
     "name": "stdout",
     "output_type": "stream",
     "text": [
      "{'s': 2, 'm': 1, 'i': 1, 'l': 1, 'e': 1}\n"
     ]
    }
   ],
   "source": [
    "ex2()"
   ]
  },
  {
   "cell_type": "code",
   "execution_count": 7,
   "id": "f8df41c8-0c94-4c0b-ae22-885a3fb15f9e",
   "metadata": {},
   "outputs": [],
   "source": [
    "l = dict({'he': 1, 'who': 3, 'conquers': 1, 'himself': 1, 'is': 3, 'the': 5, 'mightiest': 1, 'warrior': 1, 'try': 2, 'not': 1, 'to': 3, 'become': 2, 'a': 7, 'man': 6, 'of': 4, 'success': 3, 'but': 1, 'rather': 1, 'value': 1, 'one': 4, 'with': 4, 'courage': 1, 'makes': 1, 'majority': 1, 'secret': 1, 'in': 4, 'life': 2, 'for': 3, 'be': 1, 'ready': 1, 'his': 2, 'opportunity': 1, 'when': 2, 'it': 2, 'comes': 2, 'successful': 2, 'will': 2, 'profit': 1, 'from': 1, 'mistakes': 1, 'and': 1, 'again': 1, 'different': 1, 'way': 1, 'can': 3, 'lay': 1, 'firm': 1, 'foundation': 1, 'bricks': 1, 'others': 1, 'have': 1, 'thrown': 1, 'at': 1, 'him': 1, 'usually': 1, 'those': 1, 'are': 1, 'too': 1, 'busy': 1, 'looking': 1, 'we': 3, 'cannot': 1, 'solve': 1, 'problems': 1, 'kind': 1, 'thinking': 1, 'employed': 1, 'came': 1, 'up': 1, 'them': 1, 'just': 2, 'small': 1, 'positive': 1, 'thought': 1, 'morning': 1, 'change': 1, 'your': 1, 'whole': 1, 'day': 1, 'you': 3, 'get': 2, 'everything': 1, 'want': 2, 'if': 1, 'help': 1, 'enough': 1, 'other': 1, 'people': 1, 'what': 1, 'they': 1})"
   ]
  },
  {
   "cell_type": "code",
   "execution_count": 8,
   "id": "a2137be2-470a-41f9-ac2e-54452b88e329",
   "metadata": {},
   "outputs": [
    {
     "data": {
      "text/plain": [
       "6"
      ]
     },
     "execution_count": 8,
     "metadata": {},
     "output_type": "execute_result"
    }
   ],
   "source": [
    "l['man']"
   ]
  },
  {
   "cell_type": "code",
   "execution_count": 10,
   "id": "770bca3f-9989-4687-8fc9-9f84834cea2c",
   "metadata": {},
   "outputs": [
    {
     "name": "stdout",
     "output_type": "stream",
     "text": [
      " True \n"
     ]
    }
   ],
   "source": [
    "def check_the_number ( N ) :\n",
    "    list_of_numbers = []\n",
    "    result = \"\"\n",
    "    for i in range (1 , 5) :\n",
    "        list_of_numbers.append(i)\n",
    "    if N in list_of_numbers :\n",
    "        results = \" True \"\n",
    "    if N not in list_of_numbers :\n",
    "        results = \" False \"\n",
    "    return results\n",
    "\n",
    "N = 7\n",
    "assert check_the_number ( N ) == \" False \"\n",
    "N = 2\n",
    "results = check_the_number ( N )\n",
    "print ( results )"
   ]
  },
  {
   "cell_type": "code",
   "execution_count": 29,
   "id": "63b5a497-9578-4ef4-ba5b-96ef4ae8699d",
   "metadata": {},
   "outputs": [
    {
     "name": "stdout",
     "output_type": "stream",
     "text": [
      "[2, 2, 2, 1, 1]\n"
     ]
    }
   ],
   "source": [
    "def my_function ( data , vmax , vmin) :\n",
    "    result = []\n",
    "    for i in data :\n",
    "        # Your code here\n",
    "        if i < vmax:\n",
    "            result.append(vmin)\n",
    "        elif i > vmax :\n",
    "            result . append ( vmax )\n",
    "        else :\n",
    "            result . append ( i )\n",
    "    return result\n",
    "my_list = [5 , 2 , 5 , 0 , 1]\n",
    "vmax = 1\n",
    "vmin = 0\n",
    "assert my_function (vmax = vmax , vmin = vmin , data = my_list ) == [1 , 1 , 1 , 0 , 1]\n",
    "my_list = [10 , 2 , 5 , 0 , 1]\n",
    "vmax = 2\n",
    "vmin = 1\n",
    "print ( my_function (vmax = vmax , vmin = vmin , data = my_list ) )"
   ]
  },
  {
   "cell_type": "code",
   "execution_count": 15,
   "id": "23e83310-f267-41e6-8cff-9c802e4341b6",
   "metadata": {},
   "outputs": [
    {
     "name": "stdout",
     "output_type": "stream",
     "text": [
      "[1, 2, 3, 4, 0, 0]\n"
     ]
    }
   ],
   "source": [
    "def my_function (x , y ) :\n",
    "    x.extend(y)\n",
    "    return x\n",
    "\n",
    "list_num1 = ['a', 2 , 5]\n",
    "list_num2 = [1 , 1]\n",
    "list_num3 = [0 , 0]\n",
    "\n",
    "assert my_function ( list_num1 , my_function ( list_num2 , list_num3 ) ) == ['a', 2 , 5 , 1 , 1 ,0 , 0]\n",
    "\n",
    "list_num1 = [1 , 2]\n",
    "list_num2 = [3 , 4]\n",
    "list_num3 = [0 , 0]\n",
    "\n",
    "print ( my_function ( list_num1 , my_function ( list_num2 , list_num3 ) ) )"
   ]
  },
  {
   "cell_type": "code",
   "execution_count": 1,
   "id": "b099c54d-08a0-429c-bb86-0de8b9cbb675",
   "metadata": {},
   "outputs": [
    {
     "name": "stdout",
     "output_type": "stream",
     "text": [
      "-1\n"
     ]
    }
   ],
   "source": [
    "def my_function(n):\n",
    "    return min(n)\n",
    "\n",
    "my_list = [1 , 22 , 93 , -100]\n",
    "assert my_function ( my_list ) == -100\n",
    "\n",
    "my_list = [1 , 2 , 3 , -1]\n",
    "print (my_function(my_list))"
   ]
  },
  {
   "cell_type": "code",
   "execution_count": 2,
   "id": "c59c9213-c19a-48d9-80a5-c105c248115c",
   "metadata": {},
   "outputs": [
    {
     "name": "stdout",
     "output_type": "stream",
     "text": [
      "9\n"
     ]
    }
   ],
   "source": [
    "def my_function(n):\n",
    "    return max(n)\n",
    "\n",
    "my_list = [1001 , 9 , 100 , 0]\n",
    "assert my_function ( my_list ) == 1001\n",
    "\n",
    "my_list =  [1 , 9 , 9 , 0]\n",
    "print (my_function(my_list))"
   ]
  },
  {
   "cell_type": "code",
   "execution_count": 3,
   "id": "93a7a3c8-9960-4004-8fc6-3d23dae348b7",
   "metadata": {},
   "outputs": [
    {
     "name": "stdout",
     "output_type": "stream",
     "text": [
      "True\n"
     ]
    }
   ],
   "source": [
    "def my_function(intergers, number = 1):\n",
    "    return any(True if x == number else False for x in intergers)\n",
    "\n",
    "\n",
    "my_list = [1 , 3 , 9 , 4]\n",
    "assert my_function ( my_list, -1 ) == False\n",
    "\n",
    "my_list =  [1 , 2 , 3 , 4]\n",
    "print (my_function(my_list, 2))"
   ]
  },
  {
   "cell_type": "code",
   "execution_count": 5,
   "id": "06870b67-efad-4629-ba11-a88af5d4f33e",
   "metadata": {},
   "outputs": [
    {
     "name": "stdout",
     "output_type": "stream",
     "text": [
      "1.0\n"
     ]
    }
   ],
   "source": [
    "def my_function(list_nums = [0 , 1 , 2]):\n",
    "    var = 0\n",
    "    for i in list_nums :\n",
    "        var += i\n",
    "    return var / len(list_nums)\n",
    "\n",
    "\n",
    "assert my_function ([4 , 6 , 8]) == 6\n",
    "\n",
    "print (my_function())"
   ]
  },
  {
   "cell_type": "code",
   "execution_count": 7,
   "id": "6617fc79-f06d-4e8b-bbf5-2006f6370b9d",
   "metadata": {},
   "outputs": [
    {
     "name": "stdout",
     "output_type": "stream",
     "text": [
      "[3, 6]\n"
     ]
    }
   ],
   "source": [
    "def my_function(data):\n",
    "    var = [x for x in data if x % 3==0]\n",
    "    return var\n",
    "\n",
    "\n",
    "assert my_function ([3 , 9 , 4 , 5]) == [3 , 9]\n",
    "\n",
    "print (my_function([1 , 2 , 3 , 5 , 6]))"
   ]
  },
  {
   "cell_type": "code",
   "execution_count": 8,
   "id": "3986d8bb-e45c-4930-b523-f27a5dfc734d",
   "metadata": {},
   "outputs": [
    {
     "name": "stdout",
     "output_type": "stream",
     "text": [
      "24\n"
     ]
    }
   ],
   "source": [
    "def my_function(y):\n",
    "    var = 1\n",
    "    while y > 1:\n",
    "        var *= y\n",
    "        y -= 1\n",
    "    return var\n",
    "\n",
    "\n",
    "assert my_function (8) == 40320\n",
    "\n",
    "print (my_function(4))"
   ]
  },
  {
   "cell_type": "code",
   "execution_count": 12,
   "id": "a2b77d9c-72b1-4d07-9c08-f3d5c8888337",
   "metadata": {},
   "outputs": [
    {
     "name": "stdout",
     "output_type": "stream",
     "text": [
      "tocirpa\n"
     ]
    }
   ],
   "source": [
    "def my_function(text):\n",
    "    return text[::-1]\n",
    "\n",
    "x = 'apricot'\n",
    "print (my_function(x))"
   ]
  },
  {
   "cell_type": "code",
   "execution_count": 14,
   "id": "e488763f-b90d-46ed-bac6-b827a4dd7d6e",
   "metadata": {},
   "outputs": [
    {
     "name": "stdout",
     "output_type": "stream",
     "text": [
      "['T', 'T', 'T', 'N']\n"
     ]
    }
   ],
   "source": [
    "#def function_helper ( x ) :\n",
    "    # Your code here\n",
    "    # Neu x >0 tra ve ’T ’, nguoc lai tra ve ’N’\n",
    "    \n",
    "def my_function ( data ) :\n",
    "    res = [ 'T' if x >0 else 'N' for x in data ]\n",
    "    return res\n",
    "\n",
    "data = [10 , 0 , -10 , -1]\n",
    "assert my_function ( data ) == ['T', 'N', 'N', 'N']\n",
    "\n",
    "data = [2 , 3 , 5 , -1]\n",
    "print ( my_function ( data ) )"
   ]
  },
  {
   "cell_type": "code",
   "execution_count": 15,
   "id": "f60a79ee-0670-41ab-8ba3-eefe13cb7c7a",
   "metadata": {},
   "outputs": [
    {
     "name": "stdout",
     "output_type": "stream",
     "text": [
      "[9, 8, 1]\n"
     ]
    }
   ],
   "source": [
    "def function_helper (x , data ) :\n",
    "    for i in data :\n",
    "        if x == i:\n",
    "            return 0\n",
    "    return 1\n",
    "def my_function ( data ) :\n",
    "    res = []\n",
    "    for i in data :\n",
    "        if function_helper (i , res ) :\n",
    "            res.append ( i )\n",
    "    return res\n",
    "\n",
    "lst = [10 , 10 , 9 , 7 , 7]\n",
    "assert my_function ( lst ) ==[10 , 9 , 7]\n",
    "\n",
    "lst = [9 , 9 , 8 , 1 , 1]\n",
    "print ( my_function ( lst ) )"
   ]
  },
  {
   "cell_type": "code",
   "execution_count": null,
   "id": "b92d3b94-f9e6-49f2-b897-ebe6e1c82973",
   "metadata": {},
   "outputs": [],
   "source": []
  }
 ],
 "metadata": {
  "kernelspec": {
   "display_name": "Python 3 (ipykernel)",
   "language": "python",
   "name": "python3"
  },
  "language_info": {
   "codemirror_mode": {
    "name": "ipython",
    "version": 3
   },
   "file_extension": ".py",
   "mimetype": "text/x-python",
   "name": "python",
   "nbconvert_exporter": "python",
   "pygments_lexer": "ipython3",
   "version": "3.11.7"
  }
 },
 "nbformat": 4,
 "nbformat_minor": 5
}
