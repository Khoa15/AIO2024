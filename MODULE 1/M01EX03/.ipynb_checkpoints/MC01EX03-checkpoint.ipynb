{
 "cells": [
  {
   "cell_type": "code",
   "execution_count": 6,
   "id": "6e3f9bf9-3969-4e9a-800b-0878ae973325",
   "metadata": {},
   "outputs": [],
   "source": [
    "import torch"
   ]
  },
  {
   "cell_type": "code",
   "execution_count": 9,
   "id": "46c96bd4-dabf-4be4-8279-f2cda992ba11",
   "metadata": {},
   "outputs": [],
   "source": [
    "class Softmax(torch.nn.Module):\n",
    "    def __init__(self):\n",
    "        super().__init__()\n",
    "\n",
    "    def forward(self, x):\n",
    "        x_exp = torch.exp(x)\n",
    "        total = x_exp.sum(0, keepdims=True)\n",
    "        return x_exp/total        "
   ]
  },
  {
   "cell_type": "code",
   "execution_count": 10,
   "id": "faaf3288-4f09-43aa-a38e-47992a9b08e3",
   "metadata": {},
   "outputs": [
    {
     "data": {
      "text/plain": [
       "tensor([0.0900, 0.2447, 0.6652])"
      ]
     },
     "execution_count": 10,
     "metadata": {},
     "output_type": "execute_result"
    }
   ],
   "source": [
    "data = torch.Tensor([1, 2, 3])\n",
    "softmax = Softmax()\n",
    "output = softmax(data)\n",
    "output"
   ]
  },
  {
   "cell_type": "code",
   "execution_count": 11,
   "id": "d2a9540c-5d80-4d16-bd01-71383dbeb334",
   "metadata": {},
   "outputs": [],
   "source": [
    "class SoftmaxStable(torch.nn.Module):\n",
    "    def __init__(self):\n",
    "        super().__init__()\n",
    "\n",
    "    def forward(self, x):\n",
    "        c = max(x)\n",
    "        x_exp = torch.exp(x-c)\n",
    "        total = x_exp.sum(0, keepdims=True)\n",
    "        return x_exp/total"
   ]
  },
  {
   "cell_type": "code",
   "execution_count": 12,
   "id": "32c9509c-c2ae-410e-9ed2-f2e6fa93009c",
   "metadata": {},
   "outputs": [
    {
     "data": {
      "text/plain": [
       "tensor([0.0900, 0.2447, 0.6652])"
      ]
     },
     "execution_count": 12,
     "metadata": {},
     "output_type": "execute_result"
    }
   ],
   "source": [
    "softmax_stable = SoftmaxStable()\n",
    "output = softmax_stable(data)\n",
    "output"
   ]
  },
  {
   "cell_type": "code",
   "execution_count": 16,
   "id": "7063c0b8-c1da-4f9b-9bf1-6d1835b28d8e",
   "metadata": {},
   "outputs": [],
   "source": [
    "class Person:\n",
    "    def __init__(self, name, yob):\n",
    "        self.name = name\n",
    "        self.yob = yob\n",
    "    def describe(self):\n",
    "        print(self.name)\n",
    "        print(self.yob)\n",
    "\n",
    "class Student(Person):\n",
    "    def __init__(self, name: str, yob: int, grade: str):\n",
    "        super().__init__(name, yob)\n",
    "        self.grade = grade\n",
    "\n",
    "    def describe(self):\n",
    "        super().describe()\n",
    "        print(self.grade)\n",
    "\n",
    "class Doctor(Person):\n",
    "    def __init__(self, name: str, yob: int, specialist: str):\n",
    "        super().__init__(name, yob)\n",
    "        self.specialist = specialist\n",
    "\n",
    "    def describe(self):\n",
    "        super().describe()\n",
    "        print(self.specialist)\n",
    "        \n",
    "class Teacher(Person):\n",
    "    def __init__(self, name: str, yob: int, subject: str):\n",
    "        super().__init__(name, yob)\n",
    "        self.subject = subject\n",
    "\n",
    "    def describe(self):\n",
    "        super().describe()\n",
    "        print(self.subject)"
   ]
  },
  {
   "cell_type": "code",
   "execution_count": 17,
   "id": "746a927c-01e7-4922-bb4a-7afaf036c371",
   "metadata": {},
   "outputs": [
    {
     "name": "stdout",
     "output_type": "stream",
     "text": [
      "A\n",
      "1999\n",
      "23\n"
     ]
    }
   ],
   "source": [
    "student = Student(\"A\", 1999, 23)\n",
    "student.describe()"
   ]
  },
  {
   "cell_type": "code",
   "execution_count": null,
   "id": "43561ef2-9727-4cb1-b5df-709eda0c61b2",
   "metadata": {},
   "outputs": [],
   "source": [
    "class Ward:\n",
    "    def __init__(self, name: str):\n",
    "        self.name = name\n",
    "        self.lst = []\n",
    "    def add_person(self, person: Person):\n",
    "        self.lst.append(person)\n"
   ]
  },
  {
   "cell_type": "code",
   "execution_count": null,
   "id": "d5eca7d3-43a6-4e9b-b5e7-a1fc7bd4114f",
   "metadata": {},
   "outputs": [],
   "source": []
  },
  {
   "cell_type": "code",
   "execution_count": null,
   "id": "96b01959-0b03-4914-b1d6-82bb16679262",
   "metadata": {},
   "outputs": [],
   "source": []
  },
  {
   "cell_type": "code",
   "execution_count": null,
   "id": "794791c6-7771-4da2-a517-2f09cb1839bc",
   "metadata": {},
   "outputs": [],
   "source": []
  },
  {
   "cell_type": "code",
   "execution_count": null,
   "id": "217ed7fa-2a98-468c-ba96-82f85b32e356",
   "metadata": {},
   "outputs": [],
   "source": []
  },
  {
   "cell_type": "code",
   "execution_count": null,
   "id": "ad73d02c-c994-46d0-b25d-ff63fa739009",
   "metadata": {},
   "outputs": [],
   "source": []
  },
  {
   "cell_type": "code",
   "execution_count": null,
   "id": "4116bc8b-667b-4f0d-bf89-1ebcb09f1007",
   "metadata": {},
   "outputs": [],
   "source": []
  },
  {
   "cell_type": "code",
   "execution_count": null,
   "id": "f4b08afe-7bc1-4b0a-a32f-6eb0391249e7",
   "metadata": {},
   "outputs": [],
   "source": []
  },
  {
   "cell_type": "code",
   "execution_count": null,
   "id": "6b26ff2a-9d5c-4404-9afe-9bbd1f509093",
   "metadata": {},
   "outputs": [],
   "source": []
  },
  {
   "cell_type": "code",
   "execution_count": null,
   "id": "7928f022-87ec-444c-a158-ed2174e44022",
   "metadata": {},
   "outputs": [],
   "source": []
  },
  {
   "cell_type": "code",
   "execution_count": null,
   "id": "a51e23cf-cb67-488d-baef-f16275f2ec50",
   "metadata": {},
   "outputs": [],
   "source": []
  },
  {
   "cell_type": "code",
   "execution_count": null,
   "id": "80d9f614-6432-4507-b664-07a32676828d",
   "metadata": {},
   "outputs": [],
   "source": []
  },
  {
   "cell_type": "code",
   "execution_count": null,
   "id": "9450d20a-c54c-4195-816b-bbec114ae09c",
   "metadata": {},
   "outputs": [],
   "source": []
  },
  {
   "cell_type": "code",
   "execution_count": null,
   "id": "a18c4869-f998-4c19-b8b8-e6c8a96b7435",
   "metadata": {},
   "outputs": [],
   "source": []
  },
  {
   "cell_type": "code",
   "execution_count": null,
   "id": "29056edd-fdea-4bec-94c4-6026a2fd6453",
   "metadata": {},
   "outputs": [],
   "source": []
  },
  {
   "cell_type": "code",
   "execution_count": null,
   "id": "9dead6f4-d5ec-46a9-88d9-7651d34a20b1",
   "metadata": {},
   "outputs": [],
   "source": []
  },
  {
   "cell_type": "code",
   "execution_count": null,
   "id": "900df6eb-57e6-415c-bbbe-38d2b5ab040c",
   "metadata": {},
   "outputs": [],
   "source": []
  },
  {
   "cell_type": "code",
   "execution_count": null,
   "id": "2be1e8dc-5b80-4226-82cb-70cae60ed85b",
   "metadata": {},
   "outputs": [],
   "source": []
  },
  {
   "cell_type": "code",
   "execution_count": null,
   "id": "2f86d89d-7b5a-4c06-b993-dc8140726e58",
   "metadata": {},
   "outputs": [],
   "source": []
  },
  {
   "cell_type": "code",
   "execution_count": null,
   "id": "69a575be-6fe6-439f-a5d0-925f5d812787",
   "metadata": {},
   "outputs": [],
   "source": []
  }
 ],
 "metadata": {
  "kernelspec": {
   "display_name": "Python 3 (ipykernel)",
   "language": "python",
   "name": "python3"
  },
  "language_info": {
   "codemirror_mode": {
    "name": "ipython",
    "version": 3
   },
   "file_extension": ".py",
   "mimetype": "text/x-python",
   "name": "python",
   "nbconvert_exporter": "python",
   "pygments_lexer": "ipython3",
   "version": "3.11.7"
  }
 },
 "nbformat": 4,
 "nbformat_minor": 5
}
