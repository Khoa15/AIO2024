{
 "cells": [
  {
   "cell_type": "code",
   "execution_count": 1,
   "id": "8021701c-9d49-44fb-856f-eb296e2f11a0",
   "metadata": {},
   "outputs": [],
   "source": [
    "import numpy as np"
   ]
  },
  {
   "cell_type": "code",
   "execution_count": 2,
   "id": "086e6381-0376-4039-89b0-128aaf398fca",
   "metadata": {},
   "outputs": [
    {
     "data": {
      "text/plain": [
       "array([0, 1, 2, 3, 4, 5, 6, 7, 8, 9])"
      ]
     },
     "execution_count": 2,
     "metadata": {},
     "output_type": "execute_result"
    }
   ],
   "source": [
    "np.arange(0, 10, 1)"
   ]
  },
  {
   "cell_type": "code",
   "execution_count": 3,
   "id": "8b90635a-b383-4b4c-91b6-e495ff2d5759",
   "metadata": {},
   "outputs": [
    {
     "data": {
      "text/plain": [
       "array([[ True,  True,  True],\n",
       "       [ True,  True,  True],\n",
       "       [ True,  True,  True]])"
      ]
     },
     "execution_count": 3,
     "metadata": {},
     "output_type": "execute_result"
    }
   ],
   "source": [
    "np.full((3,3), fill_value=True, dtype=bool)"
   ]
  },
  {
   "cell_type": "code",
   "execution_count": 4,
   "id": "ebfcc11b-1b3c-49d2-a85c-4e7c265fa240",
   "metadata": {},
   "outputs": [
    {
     "data": {
      "text/plain": [
       "array([[ True,  True,  True],\n",
       "       [ True,  True,  True],\n",
       "       [ True,  True,  True]])"
      ]
     },
     "execution_count": 4,
     "metadata": {},
     "output_type": "execute_result"
    }
   ],
   "source": [
    "np.ones((3,3))>0"
   ]
  },
  {
   "cell_type": "code",
   "execution_count": 5,
   "id": "58dd094e-1290-44fb-8e62-266c1eb8f5ab",
   "metadata": {},
   "outputs": [
    {
     "data": {
      "text/plain": [
       "array([[ True,  True,  True],\n",
       "       [ True,  True,  True],\n",
       "       [ True,  True,  True]])"
      ]
     },
     "execution_count": 5,
     "metadata": {},
     "output_type": "execute_result"
    }
   ],
   "source": [
    "np.ones((3,3), dtype=bool)"
   ]
  },
  {
   "cell_type": "code",
   "execution_count": 6,
   "id": "ae32bebe-353b-4851-a360-9e5459248979",
   "metadata": {},
   "outputs": [
    {
     "name": "stdout",
     "output_type": "stream",
     "text": [
      "[0 1 2 3 4 5 6 7 8 9] [1 3 5 7 9]\n"
     ]
    }
   ],
   "source": [
    "x = np.arange(0,10)\n",
    "print(x, x[x%2==1])"
   ]
  },
  {
   "cell_type": "code",
   "execution_count": 7,
   "id": "4aa79c03-2c8f-431b-bb40-3315b722d95f",
   "metadata": {},
   "outputs": [
    {
     "data": {
      "text/plain": [
       "array([ 0, -1,  2, -1,  4, -1,  6, -1,  8, -1])"
      ]
     },
     "execution_count": 7,
     "metadata": {},
     "output_type": "execute_result"
    }
   ],
   "source": [
    "x[x%2==1] = -1\n",
    "x"
   ]
  },
  {
   "cell_type": "code",
   "execution_count": 8,
   "id": "e7c3cb8e-3468-4171-a979-6e17b0abf8a6",
   "metadata": {},
   "outputs": [
    {
     "data": {
      "text/plain": [
       "array([[0, 1, 2, 3, 4],\n",
       "       [5, 6, 7, 8, 9]])"
      ]
     },
     "execution_count": 8,
     "metadata": {},
     "output_type": "execute_result"
    }
   ],
   "source": [
    "x = np.arange(10)\n",
    "x.reshape(2, -1)"
   ]
  },
  {
   "cell_type": "code",
   "execution_count": 9,
   "id": "c682d0c9-8231-48e3-9765-bffbd7dfd6b5",
   "metadata": {},
   "outputs": [
    {
     "data": {
      "text/plain": [
       "array([[0, 1],\n",
       "       [2, 3],\n",
       "       [4, 5],\n",
       "       [6, 7],\n",
       "       [8, 9]])"
      ]
     },
     "execution_count": 9,
     "metadata": {},
     "output_type": "execute_result"
    }
   ],
   "source": [
    "x.reshape(-1, 2)"
   ]
  },
  {
   "cell_type": "code",
   "execution_count": 10,
   "id": "689a5340-7ceb-480a-aa63-2015b1521f25",
   "metadata": {},
   "outputs": [
    {
     "data": {
      "text/plain": [
       "array([[0, 1, 2, 3, 4],\n",
       "       [5, 6, 7, 8, 9],\n",
       "       [1, 1, 1, 1, 1],\n",
       "       [1, 1, 1, 1, 1]])"
      ]
     },
     "execution_count": 10,
     "metadata": {},
     "output_type": "execute_result"
    }
   ],
   "source": [
    "np.concatenate([np.arange(10).reshape(2, -1), np.repeat(1, 10).reshape(2, -1)], axis=0)"
   ]
  },
  {
   "cell_type": "code",
   "execution_count": 11,
   "id": "1d06e60d-4b9c-42d9-bc0a-2ab54ad25179",
   "metadata": {},
   "outputs": [
    {
     "data": {
      "text/plain": [
       "(array([[0, 1, 2, 3, 4],\n",
       "        [5, 6, 7, 8, 9]]),\n",
       " array([[2, 2, 2, 2, 2],\n",
       "        [2, 2, 2, 2, 2]]))"
      ]
     },
     "execution_count": 11,
     "metadata": {},
     "output_type": "execute_result"
    }
   ],
   "source": [
    "np.arange(10).reshape(2, -1), np.repeat(2, 10).reshape(2, -1)"
   ]
  },
  {
   "cell_type": "code",
   "execution_count": 12,
   "id": "b768bd32-db6b-4c81-9331-5a4822c85561",
   "metadata": {},
   "outputs": [
    {
     "data": {
      "text/plain": [
       "array([[0, 1, 2, 3, 4, 1, 1, 1, 1, 1],\n",
       "       [5, 6, 7, 8, 9, 1, 1, 1, 1, 1]])"
      ]
     },
     "execution_count": 12,
     "metadata": {},
     "output_type": "execute_result"
    }
   ],
   "source": [
    "np.concatenate([np.arange(10).reshape(2, -1), np.repeat(1, 10).reshape(2, -1)], axis=1)"
   ]
  },
  {
   "cell_type": "code",
   "execution_count": 13,
   "id": "7a76caab-562d-4443-9733-02ba1dfc4c5f",
   "metadata": {},
   "outputs": [
    {
     "name": "stdout",
     "output_type": "stream",
     "text": [
      "[1 1 1 2 2 2 3 3 3]\n",
      "[1 2 3 1 2 3 1 2 3]\n"
     ]
    }
   ],
   "source": [
    "x = np.array([1,2,3])\n",
    "print(np.repeat(x, 3))\n",
    "print(np.tile(x, 3))"
   ]
  },
  {
   "cell_type": "code",
   "execution_count": 14,
   "id": "5aa49102-a9fc-4669-977b-bbc2284eff62",
   "metadata": {},
   "outputs": [
    {
     "name": "stdout",
     "output_type": "stream",
     "text": [
      "[1 1 1 1 1 1 2 2 2 2 2 2 3 3 3 3 3 3]\n"
     ]
    }
   ],
   "source": [
    "print(np.repeat(x, 6))"
   ]
  },
  {
   "cell_type": "code",
   "execution_count": 15,
   "id": "871c84f9-d721-411c-ab33-62623698f96f",
   "metadata": {},
   "outputs": [
    {
     "name": "stdout",
     "output_type": "stream",
     "text": [
      "[1 2 3 1 2 3 1 2 3 1 2 3 1 2 3 1 2 3]\n"
     ]
    }
   ],
   "source": [
    "print(np.tile(x, 6))"
   ]
  },
  {
   "cell_type": "code",
   "execution_count": 16,
   "id": "23296ba5-d9d0-4640-9dae-252aac558fa2",
   "metadata": {},
   "outputs": [
    {
     "data": {
      "text/plain": [
       "array([ 6,  9, 10])"
      ]
     },
     "execution_count": 16,
     "metadata": {},
     "output_type": "execute_result"
    }
   ],
   "source": [
    "x = np.array([2,6,1,9,10,3,27])\n",
    "index = np.where((x>=5)&(x<=10))\n",
    "x[index]"
   ]
  },
  {
   "cell_type": "code",
   "execution_count": 17,
   "id": "17d7a689-b566-4b57-9b31-151016856484",
   "metadata": {},
   "outputs": [
    {
     "name": "stdout",
     "output_type": "stream",
     "text": [
      "[6. 7. 9. 8. 9. 7. 5.]\n"
     ]
    }
   ],
   "source": [
    "def maxx(x,y):\n",
    "    if x >= y :\n",
    "        return x\n",
    "    else:\n",
    "        return y\n",
    "\n",
    "a = np.array([5,7,9,8,6,4,5])\n",
    "b = np.array([6,3,4,8,9,7,1])\n",
    "\n",
    "pair_max = np.vectorize(maxx,otypes=[float])\n",
    "print(pair_max(a,b))"
   ]
  },
  {
   "cell_type": "code",
   "execution_count": 18,
   "id": "47d68a99-0832-4c51-b787-7b64d5064b8c",
   "metadata": {},
   "outputs": [
    {
     "data": {
      "text/plain": [
       "array([6, 7, 9, 8, 9, 7, 5])"
      ]
     },
     "execution_count": 18,
     "metadata": {},
     "output_type": "execute_result"
    }
   ],
   "source": [
    "a = np.array([5,7,9,8,6,4,5])\n",
    "b = np.array([6,3,4,8,9,7,1])\n",
    "np.where(a<b, b, a)"
   ]
  },
  {
   "cell_type": "markdown",
   "id": "599b479b-062e-47f0-a196-04903bdcd9de",
   "metadata": {},
   "source": [
    "# Exercise 2"
   ]
  },
  {
   "cell_type": "code",
   "execution_count": 19,
   "id": "b4433ede-188c-404f-885a-e54915ddce08",
   "metadata": {},
   "outputs": [
    {
     "name": "stderr",
     "output_type": "stream",
     "text": [
      "Downloading...\n",
      "From: https://drive.google.com/uc?id=1i9dqan21DjQoG5Q_VEvm0LrVwAlXD0vB\n",
      "To: C:\\Users\\nguye\\OneDrive\\Learning\\AIO\\EXERCISE\\MODULE 2\\M02EX01\\dog.jpeg\n",
      "100%|█████████████████████████████████████████████████████████████████████████████| 33.7k/33.7k [00:00<00:00, 33.4MB/s]\n"
     ]
    },
    {
     "data": {
      "text/plain": [
       "'dog.jpeg'"
      ]
     },
     "execution_count": 19,
     "metadata": {},
     "output_type": "execute_result"
    }
   ],
   "source": [
    "import gdown\n",
    "\n",
    "gdown.download('https://drive.google.com/file/d/1i9dqan21DjQoG5Q_VEvm0LrVwAlXD0vB/view?usp=sharing', 'dog.jpeg', fuzzy=True)"
   ]
  },
  {
   "cell_type": "code",
   "execution_count": 20,
   "id": "9cf5e312-1967-44c3-8973-71df3c8e042f",
   "metadata": {},
   "outputs": [
    {
     "data": {
      "text/plain": [
       "array([102.5])"
      ]
     },
     "execution_count": 20,
     "metadata": {},
     "output_type": "execute_result"
    }
   ],
   "source": [
    "import matplotlib.image as mpimg\n",
    "img = mpimg.imread('dog.jpeg')\n",
    "gray_img_01 = np.max(img, axis=-1, keepdims=1)/2 + np.min(img, axis=-1, keepdims=1)/2\n",
    "gray_img_01[0, 0]"
   ]
  },
  {
   "cell_type": "code",
   "execution_count": 21,
   "id": "54403d7e-f7fd-42ee-8929-6f3514c9810b",
   "metadata": {},
   "outputs": [
    {
     "data": {
      "text/plain": [
       "array([107.66666667])"
      ]
     },
     "execution_count": 21,
     "metadata": {},
     "output_type": "execute_result"
    }
   ],
   "source": [
    "gray_img_02 = np.sum(img, axis=-1, keepdims=1)/3\n",
    "gray_img_02[0, 0]"
   ]
  },
  {
   "cell_type": "code",
   "execution_count": 22,
   "id": "92e81934-87af-4e98-8cdb-6ec94e316b25",
   "metadata": {},
   "outputs": [
    {
     "data": {
      "text/plain": [
       "126.22999999999999"
      ]
     },
     "execution_count": 22,
     "metadata": {},
     "output_type": "execute_result"
    }
   ],
   "source": [
    "x = [0.21,0.72,0.07]\n",
    "gray_img_03 = np.dot(img[...,:3], x)\n",
    "gray_img_03[0, 0]"
   ]
  },
  {
   "cell_type": "code",
   "execution_count": 23,
   "id": "cc53cc63-24ce-4a04-a35b-3bc8f2725b88",
   "metadata": {},
   "outputs": [
    {
     "name": "stderr",
     "output_type": "stream",
     "text": [
      "Downloading...\n",
      "From: https://drive.google.com/uc?id=1iA0WmVfW88HyJvTBSQDI5vesf-pgKabq\n",
      "To: C:\\Users\\nguye\\OneDrive\\Learning\\AIO\\EXERCISE\\MODULE 2\\M02EX01\\advertising.csv\n",
      "100%|█████████████████████████████████████████████████████████████████████████████████████| 4.06k/4.06k [00:00<?, ?B/s]\n"
     ]
    },
    {
     "data": {
      "text/plain": [
       "'advertising.csv'"
      ]
     },
     "execution_count": 23,
     "metadata": {},
     "output_type": "execute_result"
    }
   ],
   "source": [
    "gdown.download('https://drive.google.com/file/d/1iA0WmVfW88HyJvTBSQDI5vesf-pgKabq/view?usp=sharing', 'advertising.csv', fuzzy=True)"
   ]
  },
  {
   "cell_type": "code",
   "execution_count": 24,
   "id": "47f17d40-9772-4f5e-a6fb-cd9bda37885b",
   "metadata": {},
   "outputs": [
    {
     "data": {
      "text/html": [
       "<div>\n",
       "<style scoped>\n",
       "    .dataframe tbody tr th:only-of-type {\n",
       "        vertical-align: middle;\n",
       "    }\n",
       "\n",
       "    .dataframe tbody tr th {\n",
       "        vertical-align: top;\n",
       "    }\n",
       "\n",
       "    .dataframe thead th {\n",
       "        text-align: right;\n",
       "    }\n",
       "</style>\n",
       "<table border=\"1\" class=\"dataframe\">\n",
       "  <thead>\n",
       "    <tr style=\"text-align: right;\">\n",
       "      <th></th>\n",
       "      <th>TV</th>\n",
       "      <th>Radio</th>\n",
       "      <th>Newspaper</th>\n",
       "      <th>Sales</th>\n",
       "    </tr>\n",
       "  </thead>\n",
       "  <tbody>\n",
       "    <tr>\n",
       "      <th>0</th>\n",
       "      <td>230.1</td>\n",
       "      <td>37.8</td>\n",
       "      <td>69.2</td>\n",
       "      <td>22.1</td>\n",
       "    </tr>\n",
       "    <tr>\n",
       "      <th>1</th>\n",
       "      <td>44.5</td>\n",
       "      <td>39.3</td>\n",
       "      <td>45.1</td>\n",
       "      <td>10.4</td>\n",
       "    </tr>\n",
       "    <tr>\n",
       "      <th>2</th>\n",
       "      <td>17.2</td>\n",
       "      <td>45.9</td>\n",
       "      <td>69.3</td>\n",
       "      <td>12.0</td>\n",
       "    </tr>\n",
       "    <tr>\n",
       "      <th>3</th>\n",
       "      <td>151.5</td>\n",
       "      <td>41.3</td>\n",
       "      <td>58.5</td>\n",
       "      <td>16.5</td>\n",
       "    </tr>\n",
       "    <tr>\n",
       "      <th>4</th>\n",
       "      <td>180.8</td>\n",
       "      <td>10.8</td>\n",
       "      <td>58.4</td>\n",
       "      <td>17.9</td>\n",
       "    </tr>\n",
       "  </tbody>\n",
       "</table>\n",
       "</div>"
      ],
      "text/plain": [
       "      TV  Radio  Newspaper  Sales\n",
       "0  230.1   37.8       69.2   22.1\n",
       "1   44.5   39.3       45.1   10.4\n",
       "2   17.2   45.9       69.3   12.0\n",
       "3  151.5   41.3       58.5   16.5\n",
       "4  180.8   10.8       58.4   17.9"
      ]
     },
     "execution_count": 24,
     "metadata": {},
     "output_type": "execute_result"
    }
   ],
   "source": [
    "import pandas as pd\n",
    "df = pd.read_csv('advertising.csv')\n",
    "data = df.to_numpy()\n",
    "df.head()"
   ]
  },
  {
   "cell_type": "code",
   "execution_count": 25,
   "id": "dd7db75b-112d-4f71-9f7f-89db85306966",
   "metadata": {},
   "outputs": [
    {
     "data": {
      "text/plain": [
       "(175, 27.0)"
      ]
     },
     "execution_count": 25,
     "metadata": {},
     "output_type": "execute_result"
    }
   ],
   "source": [
    "df['Sales'].idxmax(), df['Sales'].max()"
   ]
  },
  {
   "cell_type": "code",
   "execution_count": 26,
   "id": "83b1bd38-7d6a-4ce0-ab25-3987297f07ab",
   "metadata": {},
   "outputs": [
    {
     "data": {
      "text/plain": [
       "147.0425"
      ]
     },
     "execution_count": 26,
     "metadata": {},
     "output_type": "execute_result"
    }
   ],
   "source": [
    "df['TV'].mean()"
   ]
  },
  {
   "cell_type": "code",
   "execution_count": 27,
   "id": "6319cd2f-3393-420b-8d8f-fa384ef6516f",
   "metadata": {},
   "outputs": [
    {
     "data": {
      "text/plain": [
       "TV           40\n",
       "Radio        40\n",
       "Newspaper    40\n",
       "Sales        40\n",
       "dtype: int64"
      ]
     },
     "execution_count": 27,
     "metadata": {},
     "output_type": "execute_result"
    }
   ],
   "source": [
    "df[df['Sales']>=20].count()"
   ]
  },
  {
   "cell_type": "code",
   "execution_count": 28,
   "id": "dc097657-c6da-4a0c-8e43-a6c66ea06aa1",
   "metadata": {},
   "outputs": [
    {
     "data": {
      "text/plain": [
       "TV           213.635780\n",
       "Radio         26.222936\n",
       "Newspaper     33.090826\n",
       "Sales         19.193578\n",
       "dtype: float64"
      ]
     },
     "execution_count": 28,
     "metadata": {},
     "output_type": "execute_result"
    }
   ],
   "source": [
    "df[df['Sales']>=15].mean()"
   ]
  },
  {
   "cell_type": "code",
   "execution_count": 29,
   "id": "e5665d04-212a-4d5c-afff-9375e5a0c777",
   "metadata": {},
   "outputs": [],
   "source": [
    "#19?? 20?? 21??"
   ]
  },
  {
   "cell_type": "code",
   "execution_count": 53,
   "id": "3781e5cc-9261-4bad-9400-6be4193a501f",
   "metadata": {},
   "outputs": [
    {
     "name": "stdout",
     "output_type": "stream",
     "text": [
      "30.553999999999995\n",
      "1405.1\n"
     ]
    }
   ],
   "source": [
    "mean_newspaper = df['Newspaper'].mean()\n",
    "print(mean_newspaper)\n",
    "filtered = df['Newspaper']\n",
    "result = (filtered > mean_newspaper)\n",
    "print(df['Sales'][result].sum())"
   ]
  },
  {
   "cell_type": "code",
   "execution_count": 43,
   "id": "b32b487f-e266-4d58-92aa-034812f87cd5",
   "metadata": {},
   "outputs": [
    {
     "name": "stdout",
     "output_type": "stream",
     "text": [
      "['Bad', 'Bad', 'Good']\n"
     ]
    }
   ],
   "source": [
    "mean_sales = df['Sales'].mean()\n",
    "scores = df['Sales'].apply(lambda x: 'Good' if x > mean_sales else ('Bad' if x < mean_sales else 'Average'))\n",
    "print(scores[7:10].tolist())"
   ]
  },
  {
   "cell_type": "code",
   "execution_count": 45,
   "id": "f9e55833-2106-44b1-9434-dc2c9330bfde",
   "metadata": {},
   "outputs": [
    {
     "name": "stdout",
     "output_type": "stream",
     "text": [
      "['Bad', 'Bad', 'Good']\n"
     ]
    }
   ],
   "source": [
    "closest_value = df['Sales'].iloc[(df['Sales'] - mean_sales).abs().argsort()[:1]].values[0]\n",
    "scores = df['Sales'].apply(lambda x: 'Good' if x > closest_value else ('Bad' if x < closest_value else 'Average'))\n",
    "print(scores[7:10].tolist())"
   ]
  },
  {
   "cell_type": "code",
   "execution_count": 47,
   "id": "b3932135-818b-47c0-a2a6-a0bae0817c2d",
   "metadata": {},
   "outputs": [
    {
     "name": "stdout",
     "output_type": "stream",
     "text": [
      "0      Good\n",
      "1       Bad\n",
      "2       Bad\n",
      "3      Good\n",
      "4      Good\n",
      "       ... \n",
      "195     Bad\n",
      "196     Bad\n",
      "197     Bad\n",
      "198    Good\n",
      "199    Good\n",
      "Name: Sales, Length: 200, dtype: object\n"
     ]
    }
   ],
   "source": [
    "mean_sales = df['Sales'].mean()\n",
    "scores = df['Sales'].apply(lambda x: 'Good' if x > mean_sales else ('Bad' if x < mean_sales else 'Average'))\n",
    "print(scores)"
   ]
  },
  {
   "cell_type": "code",
   "execution_count": 48,
   "id": "c8381bd2-7070-4792-bf4e-8227b6299dc4",
   "metadata": {},
   "outputs": [
    {
     "name": "stdout",
     "output_type": "stream",
     "text": [
      "0      Good\n",
      "1       Bad\n",
      "2       Bad\n",
      "3      Good\n",
      "4      Good\n",
      "       ... \n",
      "195     Bad\n",
      "196     Bad\n",
      "197     Bad\n",
      "198    Good\n",
      "199    Good\n",
      "Name: Sales, Length: 200, dtype: object\n"
     ]
    }
   ],
   "source": [
    "closest_value = df['Sales'].iloc[(df['Sales'] - mean_sales).abs().argsort()[:1]].values[0]\n",
    "scores = df['Sales'].apply(lambda x: 'Good' if x > closest_value else ('Bad' if x < closest_value else 'Average'))\n",
    "print(scores)"
   ]
  },
  {
   "cell_type": "code",
   "execution_count": null,
   "id": "a258ef68-3dbc-46d8-bc13-b5735afa162c",
   "metadata": {},
   "outputs": [],
   "source": []
  },
  {
   "cell_type": "code",
   "execution_count": null,
   "id": "b23ea697-352d-4280-ac7f-2e1d1580fc10",
   "metadata": {},
   "outputs": [],
   "source": []
  }
 ],
 "metadata": {
  "kernelspec": {
   "display_name": "Python 3 (ipykernel)",
   "language": "python",
   "name": "python3"
  },
  "language_info": {
   "codemirror_mode": {
    "name": "ipython",
    "version": 3
   },
   "file_extension": ".py",
   "mimetype": "text/x-python",
   "name": "python",
   "nbconvert_exporter": "python",
   "pygments_lexer": "ipython3",
   "version": "3.11.7"
  }
 },
 "nbformat": 4,
 "nbformat_minor": 5
}
