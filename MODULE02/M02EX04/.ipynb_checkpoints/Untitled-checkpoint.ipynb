{
 "cells": [
  {
   "cell_type": "code",
   "execution_count": 1,
   "id": "e29fcb4e-ef02-4f3e-a8af-bc401f254760",
   "metadata": {},
   "outputs": [],
   "source": [
    "import numpy as np"
   ]
  },
  {
   "cell_type": "code",
   "execution_count": 5,
   "id": "c6a0d851-5b86-45c0-aa9f-507003a188e4",
   "metadata": {},
   "outputs": [
    {
     "data": {
      "text/plain": [
       "1.8"
      ]
     },
     "execution_count": 5,
     "metadata": {},
     "output_type": "execute_result"
    }
   ],
   "source": [
    "X = [2, 0, 2, 2, 7, 4, -2, 5, -1, -1]\n",
    "np.mean(np.array(X))"
   ]
  },
  {
   "cell_type": "code",
   "execution_count": 6,
   "id": "47916a8d-4123-4adf-bffe-92163c7277e8",
   "metadata": {},
   "outputs": [
    {
     "data": {
      "text/plain": [
       "1.8"
      ]
     },
     "execution_count": 6,
     "metadata": {},
     "output_type": "execute_result"
    }
   ],
   "source": [
    "def mean(X: np.array):\n",
    "    return np.mean(X)\n",
    "mean(X)"
   ]
  },
  {
   "cell_type": "code",
   "execution_count": 19,
   "id": "2d511e77-c0fa-4a87-8fcd-d6017160c603",
   "metadata": {},
   "outputs": [
    {
     "data": {
      "text/plain": [
       "4.5"
      ]
     },
     "execution_count": 19,
     "metadata": {},
     "output_type": "execute_result"
    }
   ],
   "source": [
    "def median(X: np.array):\n",
    "    size = len(X)\n",
    "    size_half = int(size / 2) - 1\n",
    "    X = np.sort(X)\n",
    "    if size % 2 == 0:\n",
    "        return (X[size_half] + X[size_half + 1])/2\n",
    "    else:\n",
    "        return X[int((size + 1 )/ 2)]\n",
    "median(np.array([1, 5, 4, 4, 9, 13]))"
   ]
  },
  {
   "cell_type": "code",
   "execution_count": 13,
   "id": "afb10a1a-9e16-42fa-88e0-38300f3a2e32",
   "metadata": {},
   "outputs": [
    {
     "data": {
      "text/plain": [
       "[-2, -1, -1, 0, 2, 2, 2, 4, 5, 7]"
      ]
     },
     "execution_count": 13,
     "metadata": {},
     "output_type": "execute_result"
    }
   ],
   "source": [
    "X"
   ]
  },
  {
   "cell_type": "code",
   "execution_count": 26,
   "id": "cbbfcf12-36c7-47c7-8f3b-cd96e866c4f2",
   "metadata": {},
   "outputs": [
    {
     "data": {
      "text/plain": [
       "8.32666399786453"
      ]
     },
     "execution_count": 26,
     "metadata": {},
     "output_type": "execute_result"
    }
   ],
   "source": [
    "def std(X: np.array):\n",
    "    m = mean(X)\n",
    "    variance = 0\n",
    "    variance = np.sum((X - m)**2) / len(X)\n",
    "    return np.sqrt(variance)\n",
    "\n",
    "std(np.array([171, 176, 155, 167, 169, 182]))"
   ]
  },
  {
   "cell_type": "code",
   "execution_count": 30,
   "id": "d113b5d4-0702-4850-bdd6-a4b29f314d9d",
   "metadata": {},
   "outputs": [
    {
     "name": "stdout",
     "output_type": "stream",
     "text": [
      "Correlation:  0.42\n"
     ]
    }
   ],
   "source": [
    "def correlation_cofficient(X: np.array, Y: np.array):\n",
    "    N = len(X)\n",
    "    numerator = 0\n",
    "    denominator = 0\n",
    "    result = (N*np.dot(X, Y) - np.sum(X)*np.sum(Y)) / (np.sqrt(N*np.sum(X**2) - np.sum(X)**2) * np.sqrt(N*np.sum(Y**2) - np.sum(Y)**2))\n",
    "    return np.round(result, 2)\n",
    "X = np.asarray([-2,-5,-11, 6, 4, 15, 9])\n",
    "Y = np.asarray([4, 25, 121, 36, 16, 225, 81])\n",
    "print(\"Correlation: \", correlation_cofficient(X,Y))"
   ]
  },
  {
   "cell_type": "code",
   "execution_count": 29,
   "id": "c6fe7f89-0000-4087-94b5-3ef8aafaa456",
   "metadata": {},
   "outputs": [
    {
     "data": {
      "text/plain": [
       "array([ -4, -10, -22,  12,   8,  30,  18])"
      ]
     },
     "execution_count": 29,
     "metadata": {},
     "output_type": "execute_result"
    }
   ],
   "source": [
    "X*2"
   ]
  },
  {
   "cell_type": "code",
   "execution_count": 32,
   "id": "050e5e58-ae93-471f-9d9b-0a6640e387b7",
   "metadata": {},
   "outputs": [],
   "source": [
    "import pandas as pd"
   ]
  },
  {
   "cell_type": "code",
   "execution_count": 36,
   "id": "40eb69f4-3cfe-4d22-9725-aa83136c3c5f",
   "metadata": {},
   "outputs": [
    {
     "name": "stderr",
     "output_type": "stream",
     "text": [
      "Downloading...\n",
      "From: https://drive.google.com/uc?id=1iA0WmVfW88HyJvTBSQDI5vesf-pgKabq\n",
      "To: C:\\Users\\nguye\\OneDrive\\Learning\\AIO\\EXERCISE\\MODULE02\\M02EX04\\advertising.csv\n",
      "100%|█████████████████████████████████████████████████████████████████████████████████████| 4.06k/4.06k [00:00<?, ?B/s]\n"
     ]
    },
    {
     "data": {
      "text/plain": [
       "'advertising.csv'"
      ]
     },
     "execution_count": 36,
     "metadata": {},
     "output_type": "execute_result"
    }
   ],
   "source": [
    "#import gdown\n",
    "\n",
    "#id = \"1iA0WmVfW88HyJvTBSQDI5vesf-pgKabq\"\n",
    "#gdown.download(id=id, output='advertising.csv')"
   ]
  },
  {
   "cell_type": "code",
   "execution_count": 37,
   "id": "67246aeb-eb38-47ae-9833-0593252624cc",
   "metadata": {},
   "outputs": [
    {
     "data": {
      "text/html": [
       "<div>\n",
       "<style scoped>\n",
       "    .dataframe tbody tr th:only-of-type {\n",
       "        vertical-align: middle;\n",
       "    }\n",
       "\n",
       "    .dataframe tbody tr th {\n",
       "        vertical-align: top;\n",
       "    }\n",
       "\n",
       "    .dataframe thead th {\n",
       "        text-align: right;\n",
       "    }\n",
       "</style>\n",
       "<table border=\"1\" class=\"dataframe\">\n",
       "  <thead>\n",
       "    <tr style=\"text-align: right;\">\n",
       "      <th></th>\n",
       "      <th>TV</th>\n",
       "      <th>Radio</th>\n",
       "      <th>Newspaper</th>\n",
       "      <th>Sales</th>\n",
       "    </tr>\n",
       "  </thead>\n",
       "  <tbody>\n",
       "    <tr>\n",
       "      <th>0</th>\n",
       "      <td>230.1</td>\n",
       "      <td>37.8</td>\n",
       "      <td>69.2</td>\n",
       "      <td>22.1</td>\n",
       "    </tr>\n",
       "    <tr>\n",
       "      <th>1</th>\n",
       "      <td>44.5</td>\n",
       "      <td>39.3</td>\n",
       "      <td>45.1</td>\n",
       "      <td>10.4</td>\n",
       "    </tr>\n",
       "    <tr>\n",
       "      <th>2</th>\n",
       "      <td>17.2</td>\n",
       "      <td>45.9</td>\n",
       "      <td>69.3</td>\n",
       "      <td>12.0</td>\n",
       "    </tr>\n",
       "    <tr>\n",
       "      <th>3</th>\n",
       "      <td>151.5</td>\n",
       "      <td>41.3</td>\n",
       "      <td>58.5</td>\n",
       "      <td>16.5</td>\n",
       "    </tr>\n",
       "    <tr>\n",
       "      <th>4</th>\n",
       "      <td>180.8</td>\n",
       "      <td>10.8</td>\n",
       "      <td>58.4</td>\n",
       "      <td>17.9</td>\n",
       "    </tr>\n",
       "  </tbody>\n",
       "</table>\n",
       "</div>"
      ],
      "text/plain": [
       "      TV  Radio  Newspaper  Sales\n",
       "0  230.1   37.8       69.2   22.1\n",
       "1   44.5   39.3       45.1   10.4\n",
       "2   17.2   45.9       69.3   12.0\n",
       "3  151.5   41.3       58.5   16.5\n",
       "4  180.8   10.8       58.4   17.9"
      ]
     },
     "execution_count": 37,
     "metadata": {},
     "output_type": "execute_result"
    }
   ],
   "source": [
    "data = pd.read_csv('advertising.csv')\n",
    "data.head()"
   ]
  },
  {
   "cell_type": "code",
   "execution_count": 38,
   "id": "c2d78708-97e2-407b-9246-d38a5e3538e4",
   "metadata": {},
   "outputs": [
    {
     "data": {
      "text/plain": [
       "0.05"
      ]
     },
     "execution_count": 38,
     "metadata": {},
     "output_type": "execute_result"
    }
   ],
   "source": [
    "X = data['TV']\n",
    "Y = data['Radio']\n",
    "correlation_cofficient(X, Y)"
   ]
  },
  {
   "cell_type": "code",
   "execution_count": 40,
   "id": "a6841388-6c73-4b24-9669-84b00e020ca6",
   "metadata": {},
   "outputs": [
    {
     "name": "stdout",
     "output_type": "stream",
     "text": [
      "Correlation between TV and TV: 1.0\n",
      "Correlation between TV and Radio: 0.05\n",
      "Correlation between TV and Newspaper: 0.06\n",
      "Correlation between Radio and TV: 0.05\n",
      "Correlation between Radio and Radio: 1.0\n",
      "Correlation between Radio and Newspaper: 0.35\n",
      "Correlation between Newspaper and TV: 0.06\n",
      "Correlation between Newspaper and Radio: 0.35\n",
      "Correlation between Newspaper and Newspaper: 1.0\n"
     ]
    }
   ],
   "source": [
    "features = ['TV', 'Radio', 'Newspaper']\n",
    "\n",
    "for f_1 in features:\n",
    "    for f_2 in features:\n",
    "        corr = correlation_cofficient(data[f_1], data[f_2])\n",
    "        print(f\"Correlation between {f_1} and {f_2}: {round(corr, 2)}\")"
   ]
  },
  {
   "cell_type": "code",
   "execution_count": 41,
   "id": "08c3d27d-902a-4065-b3af-3286c371a981",
   "metadata": {},
   "outputs": [
    {
     "name": "stdout",
     "output_type": "stream",
     "text": [
      "[[1.         0.35410375]\n",
      " [0.35410375 1.        ]]\n"
     ]
    }
   ],
   "source": [
    "print(np.corrcoef(data['Radio'], data['Newspaper']))"
   ]
  },
  {
   "cell_type": "code",
   "execution_count": 42,
   "id": "336fe86b-e4a9-4eaf-9c56-e739a9894094",
   "metadata": {},
   "outputs": [
    {
     "data": {
      "text/html": [
       "<div>\n",
       "<style scoped>\n",
       "    .dataframe tbody tr th:only-of-type {\n",
       "        vertical-align: middle;\n",
       "    }\n",
       "\n",
       "    .dataframe tbody tr th {\n",
       "        vertical-align: top;\n",
       "    }\n",
       "\n",
       "    .dataframe thead th {\n",
       "        text-align: right;\n",
       "    }\n",
       "</style>\n",
       "<table border=\"1\" class=\"dataframe\">\n",
       "  <thead>\n",
       "    <tr style=\"text-align: right;\">\n",
       "      <th></th>\n",
       "      <th>TV</th>\n",
       "      <th>Radio</th>\n",
       "      <th>Newspaper</th>\n",
       "      <th>Sales</th>\n",
       "    </tr>\n",
       "  </thead>\n",
       "  <tbody>\n",
       "    <tr>\n",
       "      <th>TV</th>\n",
       "      <td>1.000000</td>\n",
       "      <td>0.054809</td>\n",
       "      <td>0.056648</td>\n",
       "      <td>0.901208</td>\n",
       "    </tr>\n",
       "    <tr>\n",
       "      <th>Radio</th>\n",
       "      <td>0.054809</td>\n",
       "      <td>1.000000</td>\n",
       "      <td>0.354104</td>\n",
       "      <td>0.349631</td>\n",
       "    </tr>\n",
       "    <tr>\n",
       "      <th>Newspaper</th>\n",
       "      <td>0.056648</td>\n",
       "      <td>0.354104</td>\n",
       "      <td>1.000000</td>\n",
       "      <td>0.157960</td>\n",
       "    </tr>\n",
       "    <tr>\n",
       "      <th>Sales</th>\n",
       "      <td>0.901208</td>\n",
       "      <td>0.349631</td>\n",
       "      <td>0.157960</td>\n",
       "      <td>1.000000</td>\n",
       "    </tr>\n",
       "  </tbody>\n",
       "</table>\n",
       "</div>"
      ],
      "text/plain": [
       "                 TV     Radio  Newspaper     Sales\n",
       "TV         1.000000  0.054809   0.056648  0.901208\n",
       "Radio      0.054809  1.000000   0.354104  0.349631\n",
       "Newspaper  0.056648  0.354104   1.000000  0.157960\n",
       "Sales      0.901208  0.349631   0.157960  1.000000"
      ]
     },
     "execution_count": 42,
     "metadata": {},
     "output_type": "execute_result"
    }
   ],
   "source": [
    "data.corr()"
   ]
  },
  {
   "cell_type": "code",
   "execution_count": 43,
   "id": "ac48816c-a1f3-4b56-802b-b61446ba98d2",
   "metadata": {},
   "outputs": [],
   "source": [
    "import matplotlib.pyplot as plt\n",
    "import seaborn as sns"
   ]
  },
  {
   "cell_type": "code",
   "execution_count": 51,
   "id": "73ed5593-da18-4945-bfab-78a0810b95b6",
   "metadata": {},
   "outputs": [
    {
     "data": {
      "image/png": "[encoded data removed]",
      "text/plain": [
       "<Figure size 1000x800 with 2 Axes>"
      ]
     },
     "metadata": {},
     "output_type": "display_data"
    }
   ],
   "source": [
    "plt.figure(figsize=(10,8))\n",
    "sns.heatmap(data.corr(), annot=True, fmt='.2f', linewidth=.5)\n",
    "plt.show()"
   ]
  },
  {
   "cell_type": "code",
   "execution_count": 54,
   "id": "65429a8d-e593-404c-87f0-a2fcfd97eb6e",
   "metadata": {},
   "outputs": [],
   "source": [
    "from sklearn.metrics.pairwise import cosine_similarity\n",
    "from sklearn.feature_extraction.text import TfidfVectorizer"
   ]
  },
  {
   "cell_type": "code",
   "execution_count": 52,
   "id": "9597388a-921b-40b2-816a-834f879c6743",
   "metadata": {},
   "outputs": [
    {
     "name": "stderr",
     "output_type": "stream",
     "text": [
      "Downloading...\n",
      "From: https://drive.google.com/uc?id=1jh2p2DlaWsDo_vEWIcTrNh3mUuXd-cw6\n",
      "To: C:\\Users\\nguye\\OneDrive\\Learning\\AIO\\EXERCISE\\MODULE02\\M02EX04\\vi_text_retrieval.csv\n",
      "100%|███████████████████████████████████████████████████████████████████████████████| 201k/201k [00:00<00:00, 1.70MB/s]\n"
     ]
    },
    {
     "data": {
      "text/plain": [
       "'vi_text_retrieval.csv'"
      ]
     },
     "execution_count": 52,
     "metadata": {},
     "output_type": "execute_result"
    }
   ],
   "source": [
    "#import gdown\n",
    "#id = '1jh2p2DlaWsDo_vEWIcTrNh3mUuXd-cw6'\n",
    "#gdown.download(id=id, output='vi_text_retrieval.csv')"
   ]
  },
  {
   "cell_type": "code",
   "execution_count": 55,
   "id": "67b12685-6ef3-4153-94a8-1fa079c98f84",
   "metadata": {},
   "outputs": [
    {
     "data": {
      "text/plain": [
       "0.31126580760710637"
      ]
     },
     "execution_count": 55,
     "metadata": {},
     "output_type": "execute_result"
    }
   ],
   "source": [
    "vi_data_df = pd.read_csv('vi_text_retrieval.csv')\n",
    "context = vi_data_df['text']\n",
    "context = [doc.lower() for doc in context]\n",
    "\n",
    "tfidf_vectorizer = TfidfVectorizer()\n",
    "context_embedded = tfidf_vectorizer.fit_transform(context)\n",
    "context_embedded.toarray()[7][0]"
   ]
  },
  {
   "cell_type": "code",
   "execution_count": null,
   "id": "0de5cbc8-973d-47cf-a1e9-523bcceecf57",
   "metadata": {},
   "outputs": [],
   "source": [
    "def tfidf_search(question, tfidf_vectorizer, top_d=5):\n",
    "    query_embedded = \n",
    "    consine_scores"
   ]
  },
  {
   "cell_type": "code",
   "execution_count": null,
   "id": "10dad859-c922-47cc-9b57-2e488ec4e699",
   "metadata": {},
   "outputs": [],
   "source": []
  },
  {
   "cell_type": "code",
   "execution_count": null,
   "id": "a1fa807a-b7d1-4dae-831d-b6c82a63ff84",
   "metadata": {},
   "outputs": [],
   "source": []
  },
  {
   "cell_type": "code",
   "execution_count": null,
   "id": "e14eb541-cffb-4e59-91ad-a51b624463b3",
   "metadata": {},
   "outputs": [],
   "source": []
  },
  {
   "cell_type": "code",
   "execution_count": null,
   "id": "02d64114-d77e-464a-a994-243cce62f43c",
   "metadata": {},
   "outputs": [],
   "source": []
  },
  {
   "cell_type": "code",
   "execution_count": null,
   "id": "595e09b3-4549-4920-8b2b-82811dbaa644",
   "metadata": {},
   "outputs": [],
   "source": []
  },
  {
   "cell_type": "code",
   "execution_count": null,
   "id": "6ed9839d-45ee-45ae-8805-f581f1d6c960",
   "metadata": {},
   "outputs": [],
   "source": []
  },
  {
   "cell_type": "code",
   "execution_count": null,
   "id": "36c323e0-eb4b-422e-bfc3-9bb072a24805",
   "metadata": {},
   "outputs": [],
   "source": []
  },
  {
   "cell_type": "code",
   "execution_count": null,
   "id": "155bd76a-cbd8-4817-9c8b-b87a29909aea",
   "metadata": {},
   "outputs": [],
   "source": []
  },
  {
   "cell_type": "code",
   "execution_count": null,
   "id": "f93128d0-c753-4059-9aac-0d8f16f16db9",
   "metadata": {},
   "outputs": [],
   "source": []
  }
 ],
 "metadata": {
  "kernelspec": {
   "display_name": "Python 3 (ipykernel)",
   "language": "python",
   "name": "python3"
  },
  "language_info": {
   "codemirror_mode": {
    "name": "ipython",
    "version": 3
   },
   "file_extension": ".py",
   "mimetype": "text/x-python",
   "name": "python",
   "nbconvert_exporter": "python",
   "pygments_lexer": "ipython3",
   "version": "3.11.7"
  }
 },
 "nbformat": 4,
 "nbformat_minor": 5
}
