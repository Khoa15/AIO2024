{
 "cells": [
  {
   "cell_type": "code",
   "execution_count": 33,
   "id": "7ec6ec19-ff2d-4413-9bfe-d37ef5d09c44",
   "metadata": {},
   "outputs": [
    {
     "name": "stdout",
     "output_type": "stream",
     "text": [
      "Precision: 0.4\n",
      "Recall: 0.3333333333333333\n",
      "F1: 0.3636363636363636\n",
      "tp must be int\n",
      "fp must be int\n",
      "fn must be int\n",
      "tp and fp and fn must be greater than zero\n"
     ]
    }
   ],
   "source": [
    "def precision(tp, fp):\n",
    "    return tp / (tp + fp)\n",
    "def recall(tp, fn):\n",
    "    return tp / (tp + fn)\n",
    "def f1(p, r):\n",
    "    return 2*(p*r)/(p+r)\n",
    "\n",
    "def exercise1(tp, fp, fn):\n",
    "    if type(tp) != int:\n",
    "        print(\"tp must be int\")\n",
    "        return\n",
    "    if  type(fp) != int:\n",
    "        print(\"fp must be int\")\n",
    "        return\n",
    "    if type(fn) != int:\n",
    "        print(\"fn must be int\")\n",
    "        return\n",
    "    if (tp > 0 and fp > 0 and fn > 0) == False:\n",
    "        print(\"tp and fp and fn must be greater than zero\")\n",
    "        return\n",
    "    p = precision(tp, fp)\n",
    "    r = recall(tp, fn)\n",
    "    f = f1(p, r)\n",
    "    print(f\"Precision: {p}\")\n",
    "    print(f\"Recall: {r}\")\n",
    "    print(f\"F1: {f}\")\n",
    "exercise1 ( tp =2 , fp =3 , fn =4)\n",
    "exercise1 ( tp ='a', fp =3 , fn =4)\n",
    "exercise1 ( tp =2 , fp ='a', fn =4)\n",
    "exercise1 ( tp =2 , fp =3 , fn ='a')\n",
    "exercise1 ( tp =2 , fp =3 , fn =0)"
   ]
  },
  {
   "cell_type": "code",
   "execution_count": 34,
   "id": "d7af9a41-8bc1-4d9d-b60f-ecb36c142e6d",
   "metadata": {},
   "outputs": [],
   "source": [
    "p = precision(0.3, 2)"
   ]
  },
  {
   "cell_type": "code",
   "execution_count": 35,
   "id": "4f45b87b-2db3-4adf-989d-ede294c83bb6",
   "metadata": {},
   "outputs": [
    {
     "name": "stdin",
     "output_type": "stream",
     "text": [
      "Input x:  1.5\n",
      "Input activation Function (sigmoid, relu, elu):  sigmoid\n"
     ]
    },
    {
     "name": "stdout",
     "output_type": "stream",
     "text": [
      "sigmoid: f(1.5) = 0.8175744761936437\n"
     ]
    }
   ],
   "source": [
    "import math\n",
    "def is_number(n):\n",
    "    try:\n",
    "        float(n)\n",
    "    except ValueError:\n",
    "        return False\n",
    "    return True\n",
    "def sigmoid(x):\n",
    "    return 1 / ( 1 + math.exp(-x))\n",
    "\n",
    "def relu(x):\n",
    "    if x > 0:\n",
    "        return x\n",
    "    return 0\n",
    "\n",
    "def elu(x, a):\n",
    "    if x <= 0:\n",
    "        return a * (math.exp(x)-1)\n",
    "    return x\n",
    "\n",
    "def exercise2():\n",
    "    x = input(\"Input x: \")\n",
    "    if is_number(x) == False:\n",
    "        print(\"x must be a number\")\n",
    "        return\n",
    "    else:\n",
    "        x = float(x)\n",
    "    function = input(\"Input activation Function (sigmoid, relu, elu): \")\n",
    "    if function == \"sigmoid\":\n",
    "        result = sigmoid(x)\n",
    "        print(f\"sigmoid: f({x}) = {result}\")\n",
    "    elif function == \"relu\":\n",
    "        result = relu(x)\n",
    "        print(f\"relu: f({x}) = {result}\")\n",
    "    elif function == \"elu\":\n",
    "        result = elu(x, 0.01)\n",
    "        print(f\"elu: f({x}) = {result}\")\n",
    "    else:\n",
    "        print(function, \" is not supported\")\n",
    "exercise2()"
   ]
  },
  {
   "cell_type": "code",
   "execution_count": 36,
   "id": "0a523207-ab0f-42b2-91e0-34d1c7afba89",
   "metadata": {},
   "outputs": [
    {
     "name": "stdin",
     "output_type": "stream",
     "text": [
      "Input x:  abc\n"
     ]
    },
    {
     "name": "stdout",
     "output_type": "stream",
     "text": [
      "x must be a number\n"
     ]
    }
   ],
   "source": [
    "exercise2()"
   ]
  },
  {
   "cell_type": "code",
   "execution_count": 37,
   "id": "827cf24a-fd91-49d5-adaf-5803891d5fe2",
   "metadata": {},
   "outputs": [
    {
     "name": "stdin",
     "output_type": "stream",
     "text": [
      "Input x:  1.5\n",
      "Input activation Function (sigmoid, relu, elu):  belu\n"
     ]
    },
    {
     "name": "stdout",
     "output_type": "stream",
     "text": [
      "belu  is not supported\n"
     ]
    }
   ],
   "source": [
    "exercise2()"
   ]
  },
  {
   "cell_type": "code",
   "execution_count": 38,
   "id": "ffaa57f1-c782-4d28-84b5-2ae1aa8409ee",
   "metadata": {},
   "outputs": [
    {
     "name": "stdin",
     "output_type": "stream",
     "text": [
      "Input number of samples (integer number) which are generated:  5\n",
      "Input loss name:  RMSE\n"
     ]
    },
    {
     "name": "stdout",
     "output_type": "stream",
     "text": [
      "loss name: RMSE, sample: 0, pred: 3.772984212609, target: 0.2928054505068567, loss: 12.111644216186805\n",
      "loss name: RMSE, sample: 1, pred: 5.745670256559548, target: 9.273728054763609, loss: 12.447191827468485\n",
      "loss name: RMSE, sample: 2, pred: 0.08277341384450465, target: 7.835759606039959, loss: 60.10879489637337\n",
      "loss name: RMSE, sample: 3, pred: 8.465786364040763, target: 4.172255556893564, loss: 18.434406791922083\n",
      "loss name: RMSE, sample: 4, pred: 5.825598959936562, target: 3.5978482796632916, loss: 4.962873093458017\n",
      "final RMSE: 4.6489764642426135\n"
     ]
    }
   ],
   "source": [
    "import random\n",
    "import math\n",
    "def mae(y, y_hat):\n",
    "    return abs(y - y_hat)\n",
    "\n",
    "def mse(y, y_hat):\n",
    "    return (y - y_hat)**2\n",
    "def rmse(x: mse):\n",
    "    return math.sqrt(x)\n",
    "def exercise3():\n",
    "    n = input(\"Input number of samples (integer number) which are generated: \")\n",
    "    if n.isnumeric() == False:\n",
    "        print(\"number of samples must be an integer number\")\n",
    "        return\n",
    "    n = int(n)\n",
    "    loss_name = input(\"Input loss name: \")\n",
    "    final_loss = 0\n",
    "    for i in range(n):\n",
    "        pred = random.uniform(0, 10)\n",
    "        target = random.uniform(0, 10)\n",
    "        loss = None\n",
    "        if loss_name == \"MAE\":\n",
    "            loss = mae(pred, target)\n",
    "        elif loss_name == \"MSE\" or loss_name == \"RMSE\":\n",
    "            loss = mse(pred, target)\n",
    "        final_loss += loss\n",
    "        print(f\"loss name: {loss_name}, sample: {i}, pred: {pred}, target: {target}, loss: {loss}\")\n",
    "    final_loss /= n\n",
    "    if loss_name == \"RMSE\":\n",
    "        final_loss = rmse(final_loss)\n",
    "    print(f\"final {loss_name}: {final_loss}\")\n",
    "    "
   ]
  },
  {
   "cell_type": "code",
   "execution_count": 39,
   "id": "b955c12c-e356-48b5-9aad-ca1a40ed34d5",
   "metadata": {},
   "outputs": [
    {
     "name": "stdin",
     "output_type": "stream",
     "text": [
      "Input number of samples (integer number) which are generated:  x\n"
     ]
    },
    {
     "name": "stdout",
     "output_type": "stream",
     "text": [
      "number of samples must be an integer number\n"
     ]
    }
   ],
   "source": [
    "exercise3()"
   ]
  },
  {
   "cell_type": "code",
   "execution_count": 74,
   "id": "8ffbad2e-36e2-4526-aa02-5366e29ce333",
   "metadata": {},
   "outputs": [],
   "source": [
    "def f(x):\n",
    "    #3! = 3*2*1\n",
    "    result = 1\n",
    "    for i in range(x):\n",
    "        result *= (i+1)\n",
    "    return result\n",
    "def check(x,n):\n",
    "    if n > 0:\n",
    "        return True\n",
    "    return False\n",
    "def approx_sin(x, n):\n",
    "    if check(x, n) == False:\n",
    "        return False\n",
    "    result = 0\n",
    "    for i in range(n+1):\n",
    "        result += (-1)**i * ((x ** (2*i + 1))/f(2*i+1))\n",
    "    return result\n",
    "def approx_cos(x, n):\n",
    "    if check(x, n) == False:\n",
    "        return False\n",
    "    result = 0\n",
    "    for i in range(n+1):\n",
    "        result += (-1)**i * ((x ** (2*i))/f(2*i))\n",
    "    return result\n",
    "def approx_sinh(x, n):\n",
    "    if check(x, n) == False:\n",
    "        return False\n",
    "    result = 0\n",
    "    for i in range(n+1):\n",
    "        result += ((x ** (2*i + 1))/f(2*i+1))\n",
    "    return result\n",
    "def approx_cosh(x, n):\n",
    "    if check(x, n) == False:\n",
    "        return False\n",
    "    result = 0\n",
    "    for i in range(n+1):\n",
    "        result += ((x ** (2*i))/f(2*i))\n",
    "    return result"
   ]
  },
  {
   "cell_type": "code",
   "execution_count": 41,
   "id": "e533465c-f5de-463b-a751-f2a4ca5be31f",
   "metadata": {},
   "outputs": [
    {
     "data": {
      "text/plain": [
       "0.0015926529267151343"
      ]
     },
     "execution_count": 41,
     "metadata": {},
     "output_type": "execute_result"
    }
   ],
   "source": [
    "approx_sin(3.14, 10)"
   ]
  },
  {
   "cell_type": "code",
   "execution_count": 42,
   "id": "3c462507-1c94-4b87-9e13-0c8553ade2fe",
   "metadata": {},
   "outputs": [
    {
     "data": {
      "text/plain": [
       "-0.9999987316527259"
      ]
     },
     "execution_count": 42,
     "metadata": {},
     "output_type": "execute_result"
    }
   ],
   "source": [
    "approx_cos(3.14, 10)"
   ]
  },
  {
   "cell_type": "code",
   "execution_count": 43,
   "id": "feaab4df-8d0c-4ba8-b57e-5589e120cd0e",
   "metadata": {},
   "outputs": [
    {
     "data": {
      "text/plain": [
       "11.53029203039954"
      ]
     },
     "execution_count": 43,
     "metadata": {},
     "output_type": "execute_result"
    }
   ],
   "source": [
    "approx_sinh(3.14, 10)"
   ]
  },
  {
   "cell_type": "code",
   "execution_count": 44,
   "id": "ff0267f8-0753-4aaa-b97f-9c0c3131cb73",
   "metadata": {},
   "outputs": [
    {
     "data": {
      "text/plain": [
       "11.573574828234543"
      ]
     },
     "execution_count": 44,
     "metadata": {},
     "output_type": "execute_result"
    }
   ],
   "source": [
    "approx_cosh(3.14, 10)"
   ]
  },
  {
   "cell_type": "code",
   "execution_count": 45,
   "id": "aaeb3e70-3988-486b-825b-76f7a873b9f2",
   "metadata": {},
   "outputs": [
    {
     "data": {
      "text/plain": [
       "0.025031328369998107"
      ]
     },
     "execution_count": 45,
     "metadata": {},
     "output_type": "execute_result"
    }
   ],
   "source": [
    "def MD_nRE(n, p, y, y_hat):\n",
    "    return (y**(1/n) - y_hat**(1/n))**p\n",
    "MD_nRE(y = 100, y_hat = 99.5, n=2, p=1)"
   ]
  },
  {
   "cell_type": "code",
   "execution_count": 46,
   "id": "63cd7923-ac2a-4852-b73b-5639a532f398",
   "metadata": {},
   "outputs": [
    {
     "data": {
      "text/plain": [
       "0.03544417213033135"
      ]
     },
     "execution_count": 46,
     "metadata": {},
     "output_type": "execute_result"
    }
   ],
   "source": [
    "MD_nRE( y =50 , y_hat =49.5 , n =2 , p =1)"
   ]
  },
  {
   "cell_type": "code",
   "execution_count": 47,
   "id": "1e2ab35d-3b33-4139-aeca-6fb81cbec9cf",
   "metadata": {},
   "outputs": [
    {
     "data": {
      "text/plain": [
       "0.05625552183565574"
      ]
     },
     "execution_count": 47,
     "metadata": {},
     "output_type": "execute_result"
    }
   ],
   "source": [
    "MD_nRE ( y =20 , y_hat =19.5 , n =2 , p =1)"
   ]
  },
  {
   "cell_type": "code",
   "execution_count": 48,
   "id": "0122cf5f-4c76-4c33-b1c6-9346a41903ef",
   "metadata": {},
   "outputs": [
    {
     "data": {
      "text/plain": [
       "0.45836890322464546"
      ]
     },
     "execution_count": 48,
     "metadata": {},
     "output_type": "execute_result"
    }
   ],
   "source": [
    "MD_nRE ( y =0.6 , y_hat =0.1 , n =2 , p =1)"
   ]
  },
  {
   "cell_type": "code",
   "execution_count": 49,
   "id": "68e362fd-a69b-4be2-b950-c94023637fa3",
   "metadata": {},
   "outputs": [
    {
     "name": "stdout",
     "output_type": "stream",
     "text": [
      "Precision: 0.3333333333333333\n",
      "Recall: 0.2857142857142857\n",
      "F1: 0.30769230769230765\n"
     ]
    }
   ],
   "source": [
    "exercise1 ( tp =2 , fp =4 , fn =5)"
   ]
  },
  {
   "cell_type": "code",
   "execution_count": 50,
   "id": "57652feb-0735-441d-912c-ba7fd8b12b70",
   "metadata": {},
   "outputs": [
    {
     "data": {
      "text/plain": [
       "True"
      ]
     },
     "execution_count": 50,
     "metadata": {},
     "output_type": "execute_result"
    }
   ],
   "source": [
    "is_number(1)"
   ]
  },
  {
   "cell_type": "code",
   "execution_count": 51,
   "id": "8ad309db-461e-4e10-a1e7-739208fcfc69",
   "metadata": {},
   "outputs": [
    {
     "data": {
      "text/plain": [
       "False"
      ]
     },
     "execution_count": 51,
     "metadata": {},
     "output_type": "execute_result"
    }
   ],
   "source": [
    "is_number('n')"
   ]
  },
  {
   "cell_type": "code",
   "execution_count": 53,
   "id": "e1c71483-77da-437c-a806-f52d4f5a5429",
   "metadata": {},
   "outputs": [],
   "source": [
    "assert is_number (3) == 1.0\n",
    "assert is_number (' -2a') == 0.0"
   ]
  },
  {
   "cell_type": "code",
   "execution_count": 58,
   "id": "7713598e-7592-46e3-b23d-4f36ad9a8f9d",
   "metadata": {},
   "outputs": [
    {
     "data": {
      "text/plain": [
       "0.8807970779778823"
      ]
     },
     "execution_count": 58,
     "metadata": {},
     "output_type": "execute_result"
    }
   ],
   "source": [
    "sigmoid(2)"
   ]
  },
  {
   "cell_type": "code",
   "execution_count": 57,
   "id": "5ede6147-f168-4d7c-a610-b976f7546629",
   "metadata": {},
   "outputs": [],
   "source": [
    "assert round(sigmoid(3), 2) == 0.95"
   ]
  },
  {
   "cell_type": "code",
   "execution_count": 63,
   "id": "250da20c-6315-46e0-89e0-aff35cd2ae72",
   "metadata": {},
   "outputs": [
    {
     "data": {
      "text/plain": [
       "-0.01"
      ]
     },
     "execution_count": 63,
     "metadata": {},
     "output_type": "execute_result"
    }
   ],
   "source": [
    "round(elu(x = -1, a = 0.01), 2)"
   ]
  },
  {
   "cell_type": "code",
   "execution_count": 64,
   "id": "fbba8639-5a4e-46b0-b84a-273f4d5479d1",
   "metadata": {},
   "outputs": [
    {
     "data": {
      "text/plain": [
       "1"
      ]
     },
     "execution_count": 64,
     "metadata": {},
     "output_type": "execute_result"
    }
   ],
   "source": [
    "relu(1)"
   ]
  },
  {
   "cell_type": "code",
   "execution_count": 65,
   "id": "ae29d9e6-9222-4015-9314-171f138ad585",
   "metadata": {},
   "outputs": [
    {
     "data": {
      "text/plain": [
       "0.9525741268224334"
      ]
     },
     "execution_count": 65,
     "metadata": {},
     "output_type": "execute_result"
    }
   ],
   "source": [
    "sigmoid(3)"
   ]
  },
  {
   "cell_type": "code",
   "execution_count": 66,
   "id": "1e298ade-9564-4dec-be0f-dd2c4d1c2cd7",
   "metadata": {},
   "outputs": [
    {
     "data": {
      "text/plain": [
       "5"
      ]
     },
     "execution_count": 66,
     "metadata": {},
     "output_type": "execute_result"
    }
   ],
   "source": [
    "mae(y = 1, y_hat = 6)"
   ]
  },
  {
   "cell_type": "code",
   "execution_count": 67,
   "id": "4262a403-2fd1-4e74-99a3-f6bb260af5bb",
   "metadata": {},
   "outputs": [
    {
     "data": {
      "text/plain": [
       "7"
      ]
     },
     "execution_count": 67,
     "metadata": {},
     "output_type": "execute_result"
    }
   ],
   "source": [
    "mae(y = 2, y_hat = 9)"
   ]
  },
  {
   "cell_type": "code",
   "execution_count": 68,
   "id": "57896a16-a5fe-49f5-ba6d-88923c0dd5b7",
   "metadata": {},
   "outputs": [
    {
     "data": {
      "text/plain": [
       "4"
      ]
     },
     "execution_count": 68,
     "metadata": {},
     "output_type": "execute_result"
    }
   ],
   "source": [
    "mse(y = 4, y_hat=2)"
   ]
  },
  {
   "cell_type": "code",
   "execution_count": 69,
   "id": "9dd37e7c-65f8-467a-b5f9-1caa765d538e",
   "metadata": {},
   "outputs": [
    {
     "data": {
      "text/plain": [
       "1"
      ]
     },
     "execution_count": 69,
     "metadata": {},
     "output_type": "execute_result"
    }
   ],
   "source": [
    "mse(y = 2, y_hat=1)"
   ]
  },
  {
   "cell_type": "code",
   "execution_count": 80,
   "id": "0ffa2179-fa1c-46ca-903d-47a65e60e902",
   "metadata": {},
   "outputs": [
    {
     "data": {
      "text/plain": [
       "0.54"
      ]
     },
     "execution_count": 80,
     "metadata": {},
     "output_type": "execute_result"
    }
   ],
   "source": [
    "round ( approx_cos ( x =1 , n =10) , 2)"
   ]
  },
  {
   "cell_type": "code",
   "execution_count": 79,
   "id": "bb628bf6-0962-450f-ba3d-7ca6885e424f",
   "metadata": {},
   "outputs": [
    {
     "data": {
      "text/plain": [
       "-1.0"
      ]
     },
     "execution_count": 79,
     "metadata": {},
     "output_type": "execute_result"
    }
   ],
   "source": [
    "round ( approx_cos ( x =3.14 , n =10) , 2)"
   ]
  },
  {
   "cell_type": "code",
   "execution_count": 77,
   "id": "3f596feb-67b7-49b9-936a-0362a8dcd870",
   "metadata": {},
   "outputs": [],
   "source": [
    "assert round ( approx_sin ( x =1 , n =10) , 4) ==0.8415"
   ]
  },
  {
   "cell_type": "code",
   "execution_count": 82,
   "id": "791b9df0-5379-400f-bc85-cf48dcbee8d5",
   "metadata": {},
   "outputs": [],
   "source": [
    " assert round ( approx_sin ( x =1 , n =10) , 4) ==0.8415"
   ]
  },
  {
   "cell_type": "code",
   "execution_count": 81,
   "id": "9463a487-75dd-4142-94b0-8426ecc090b3",
   "metadata": {},
   "outputs": [
    {
     "data": {
      "text/plain": [
       "0.0016"
      ]
     },
     "execution_count": 81,
     "metadata": {},
     "output_type": "execute_result"
    }
   ],
   "source": [
    " round ( approx_sin ( x =3.14 , n =10) , 4)"
   ]
  },
  {
   "cell_type": "code",
   "execution_count": 83,
   "id": "02cc40ea-0424-46b2-89b7-2cfddd1f5157",
   "metadata": {},
   "outputs": [],
   "source": [
    "assert round ( approx_sinh ( x =1 , n =10) , 2) ==1.18"
   ]
  },
  {
   "cell_type": "code",
   "execution_count": 84,
   "id": "f8272580-f49d-4cd7-b79b-022e075c9696",
   "metadata": {},
   "outputs": [
    {
     "data": {
      "text/plain": [
       "11.53"
      ]
     },
     "execution_count": 84,
     "metadata": {},
     "output_type": "execute_result"
    }
   ],
   "source": [
    "round ( approx_sinh ( x =3.14 , n =10) , 2)"
   ]
  },
  {
   "cell_type": "code",
   "execution_count": 85,
   "id": "2ceae16a-fc3b-45d9-b9c8-81aa9cef178d",
   "metadata": {},
   "outputs": [],
   "source": [
    "assert round ( approx_cosh ( x =1 , n =10) , 2) ==1.54"
   ]
  },
  {
   "cell_type": "code",
   "execution_count": 86,
   "id": "8c211d6a-4b20-4319-b611-8b3aa09a4ed6",
   "metadata": {},
   "outputs": [
    {
     "data": {
      "text/plain": [
       "11.57"
      ]
     },
     "execution_count": 86,
     "metadata": {},
     "output_type": "execute_result"
    }
   ],
   "source": [
    "round ( approx_cosh ( x =3.14 , n =10) , 2)"
   ]
  }
 ],
 "metadata": {
  "kernelspec": {
   "display_name": "Python 3 (ipykernel)",
   "language": "python",
   "name": "python3"
  },
  "language_info": {
   "codemirror_mode": {
    "name": "ipython",
    "version": 3
   },
   "file_extension": ".py",
   "mimetype": "text/x-python",
   "name": "python",
   "nbconvert_exporter": "python",
   "pygments_lexer": "ipython3",
   "version": "3.11.7"
  }
 },
 "nbformat": 4,
 "nbformat_minor": 5
}
